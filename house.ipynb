{
  "cells": [
    {
      "cell_type": "markdown",
      "metadata": {
        "id": "view-in-github",
        "colab_type": "text"
      },
      "source": [
        "<a href=\"https://colab.research.google.com/github/sherry-tang-97/house_price_prediction/blob/main/house.ipynb\" target=\"_parent\"><img src=\"https://colab.research.google.com/assets/colab-badge.svg\" alt=\"Open In Colab\"/></a>"
      ]
    },
    {
      "cell_type": "code",
      "execution_count": 73,
      "metadata": {
        "colab": {
          "base_uri": "https://localhost:8080/"
        },
        "id": "CpNU7OdOKpfp",
        "outputId": "8bb10ef8-6358-4d7a-dd01-ae1debbe412b"
      },
      "outputs": [
        {
          "output_type": "stream",
          "name": "stdout",
          "text": [
            "Drive already mounted at /content/drive; to attempt to forcibly remount, call drive.mount(\"/content/drive\", force_remount=True).\n"
          ]
        }
      ],
      "source": [
        "from google.colab import drive\n",
        "drive.mount(\"/content/drive\")"
      ]
    },
    {
      "cell_type": "code",
      "execution_count": 74,
      "metadata": {
        "colab": {
          "base_uri": "https://localhost:8080/"
        },
        "id": "Dm_AykFdK7lI",
        "outputId": "4792f427-e5e1-4d4f-93db-0390da5762d7"
      },
      "outputs": [
        {
          "output_type": "stream",
          "name": "stdout",
          "text": [
            "[Errno 2] No such file or directory: 'drive/MyDrive/house_data/'\n",
            "/content/drive/MyDrive/house_data\n"
          ]
        }
      ],
      "source": [
        "import pandas as pd\n",
        "%cd drive/MyDrive/house_data/"
      ]
    },
    {
      "cell_type": "code",
      "execution_count": 75,
      "metadata": {
        "id": "kDsizC5HlXIc"
      },
      "outputs": [],
      "source": [
        "import numpy as np\n",
        "import seaborn as sns"
      ]
    },
    {
      "cell_type": "code",
      "execution_count": 76,
      "metadata": {
        "id": "Ulc4hajUMQKK"
      },
      "outputs": [],
      "source": [
        "train = pd.read_csv('train.csv')\n",
        "test=pd.read_csv('test.csv')"
      ]
    },
    {
      "cell_type": "code",
      "execution_count": 77,
      "metadata": {
        "id": "1dMGiBnDXO2V"
      },
      "outputs": [],
      "source": [
        "#clean data\n",
        "all=pd.concat([train, test], axis=0)"
      ]
    },
    {
      "cell_type": "code",
      "execution_count": 78,
      "metadata": {
        "colab": {
          "base_uri": "https://localhost:8080/"
        },
        "id": "7MhJLjHxY4Bi",
        "outputId": "5b942f13-7914-44c6-8af8-9b7bdad16b9a"
      },
      "outputs": [
        {
          "output_type": "execute_result",
          "data": {
            "text/plain": [
              "PoolQC          2909\n",
              "MiscFeature     2814\n",
              "Alley           2721\n",
              "Fence           2348\n",
              "SalePrice       1459\n",
              "FireplaceQu     1420\n",
              "LotFrontage      486\n",
              "GarageCond       159\n",
              "GarageYrBlt      159\n",
              "GarageFinish     159\n",
              "GarageQual       159\n",
              "GarageType       157\n",
              "BsmtExposure      82\n",
              "BsmtCond          82\n",
              "BsmtQual          81\n",
              "BsmtFinType2      80\n",
              "BsmtFinType1      79\n",
              "MasVnrType        24\n",
              "MasVnrArea        23\n",
              "MSZoning           4\n",
              "Functional         2\n",
              "BsmtHalfBath       2\n",
              "BsmtFullBath       2\n",
              "Utilities          2\n",
              "KitchenQual        1\n",
              "TotalBsmtSF        1\n",
              "BsmtUnfSF          1\n",
              "GarageCars         1\n",
              "GarageArea         1\n",
              "BsmtFinSF2         1\n",
              "BsmtFinSF1         1\n",
              "Exterior2nd        1\n",
              "Exterior1st        1\n",
              "SaleType           1\n",
              "Electrical         1\n",
              "dtype: int64"
            ]
          },
          "metadata": {},
          "execution_count": 78
        }
      ],
      "source": [
        "all.isna().sum()[all.isna().sum()!=0].sort_values(ascending=False)"
      ]
    },
    {
      "cell_type": "code",
      "execution_count": 79,
      "metadata": {
        "id": "_5DabcfXZUgL"
      },
      "outputs": [],
      "source": [
        "all.PoolQC=all.PoolQC.fillna(value='None')"
      ]
    },
    {
      "cell_type": "code",
      "execution_count": 80,
      "metadata": {
        "id": "IzO3wjYBbx7Z"
      },
      "outputs": [],
      "source": [
        "levs=all.PoolQC.unique().tolist()\n",
        "all.PoolQC=all.PoolQC.replace(levs, value=[0,5,2,4])\n",
        "#all.query('PoolQC == 0 & PoolArea >0')\n",
        "all.loc[all[\"Id\"] == 2421, \"PoolQC\"] = 3\n"
      ]
    },
    {
      "cell_type": "code",
      "execution_count": 81,
      "metadata": {
        "id": "iaiPRG38qzjA"
      },
      "outputs": [],
      "source": [
        "all.loc[all[\"Id\"] == 2504, \"PoolQC\"] = 3\n",
        "all.loc[all[\"Id\"] == 2600, \"PoolQC\"] = 3\n"
      ]
    },
    {
      "cell_type": "code",
      "execution_count": 82,
      "metadata": {
        "id": "qZz-cMEsq4UM"
      },
      "outputs": [],
      "source": [
        "all.MiscFeature=all.MiscFeature.fillna(value='None')\n",
        "all.Alley=all.Alley.fillna(value='None')\n",
        "all.Fence=all.Fence.fillna(value='None')\n",
        "#all.FireplaceQu.isna().sum()\n",
        "#all.Fireplaces.value_counts()\n",
        "all.FireplaceQu=all.FireplaceQu.fillna(value='None')\n",
        "all.LotFrontage=all.LotFrontage.fillna(value=all.LotFrontage.median())"
      ]
    },
    {
      "cell_type": "code",
      "execution_count": 83,
      "metadata": {
        "colab": {
          "base_uri": "https://localhost:8080/",
          "height": 81
        },
        "id": "HGuO7nrQvkP4",
        "outputId": "5f2fb06d-75cc-4919-dc5e-45a5294f66ca"
      },
      "outputs": [
        {
          "output_type": "execute_result",
          "data": {
            "text/plain": [
              "        Id GarageType  GarageYrBlt GarageFinish  GarageCars  GarageArea  \\\n",
              "1116  2577     Detchd          NaN          NaN         NaN         NaN   \n",
              "\n",
              "     GarageQual GarageCond  \n",
              "1116        NaN        NaN  "
            ],
            "text/html": [
              "\n",
              "  <div id=\"df-b78d0343-ac94-4865-8371-8de92935c1d3\">\n",
              "    <div class=\"colab-df-container\">\n",
              "      <div>\n",
              "<style scoped>\n",
              "    .dataframe tbody tr th:only-of-type {\n",
              "        vertical-align: middle;\n",
              "    }\n",
              "\n",
              "    .dataframe tbody tr th {\n",
              "        vertical-align: top;\n",
              "    }\n",
              "\n",
              "    .dataframe thead th {\n",
              "        text-align: right;\n",
              "    }\n",
              "</style>\n",
              "<table border=\"1\" class=\"dataframe\">\n",
              "  <thead>\n",
              "    <tr style=\"text-align: right;\">\n",
              "      <th></th>\n",
              "      <th>Id</th>\n",
              "      <th>GarageType</th>\n",
              "      <th>GarageYrBlt</th>\n",
              "      <th>GarageFinish</th>\n",
              "      <th>GarageCars</th>\n",
              "      <th>GarageArea</th>\n",
              "      <th>GarageQual</th>\n",
              "      <th>GarageCond</th>\n",
              "    </tr>\n",
              "  </thead>\n",
              "  <tbody>\n",
              "    <tr>\n",
              "      <th>1116</th>\n",
              "      <td>2577</td>\n",
              "      <td>Detchd</td>\n",
              "      <td>NaN</td>\n",
              "      <td>NaN</td>\n",
              "      <td>NaN</td>\n",
              "      <td>NaN</td>\n",
              "      <td>NaN</td>\n",
              "      <td>NaN</td>\n",
              "    </tr>\n",
              "  </tbody>\n",
              "</table>\n",
              "</div>\n",
              "      <button class=\"colab-df-convert\" onclick=\"convertToInteractive('df-b78d0343-ac94-4865-8371-8de92935c1d3')\"\n",
              "              title=\"Convert this dataframe to an interactive table.\"\n",
              "              style=\"display:none;\">\n",
              "        \n",
              "  <svg xmlns=\"http://www.w3.org/2000/svg\" height=\"24px\"viewBox=\"0 0 24 24\"\n",
              "       width=\"24px\">\n",
              "    <path d=\"M0 0h24v24H0V0z\" fill=\"none\"/>\n",
              "    <path d=\"M18.56 5.44l.94 2.06.94-2.06 2.06-.94-2.06-.94-.94-2.06-.94 2.06-2.06.94zm-11 1L8.5 8.5l.94-2.06 2.06-.94-2.06-.94L8.5 2.5l-.94 2.06-2.06.94zm10 10l.94 2.06.94-2.06 2.06-.94-2.06-.94-.94-2.06-.94 2.06-2.06.94z\"/><path d=\"M17.41 7.96l-1.37-1.37c-.4-.4-.92-.59-1.43-.59-.52 0-1.04.2-1.43.59L10.3 9.45l-7.72 7.72c-.78.78-.78 2.05 0 2.83L4 21.41c.39.39.9.59 1.41.59.51 0 1.02-.2 1.41-.59l7.78-7.78 2.81-2.81c.8-.78.8-2.07 0-2.86zM5.41 20L4 18.59l7.72-7.72 1.47 1.35L5.41 20z\"/>\n",
              "  </svg>\n",
              "      </button>\n",
              "      \n",
              "  <style>\n",
              "    .colab-df-container {\n",
              "      display:flex;\n",
              "      flex-wrap:wrap;\n",
              "      gap: 12px;\n",
              "    }\n",
              "\n",
              "    .colab-df-convert {\n",
              "      background-color: #E8F0FE;\n",
              "      border: none;\n",
              "      border-radius: 50%;\n",
              "      cursor: pointer;\n",
              "      display: none;\n",
              "      fill: #1967D2;\n",
              "      height: 32px;\n",
              "      padding: 0 0 0 0;\n",
              "      width: 32px;\n",
              "    }\n",
              "\n",
              "    .colab-df-convert:hover {\n",
              "      background-color: #E2EBFA;\n",
              "      box-shadow: 0px 1px 2px rgba(60, 64, 67, 0.3), 0px 1px 3px 1px rgba(60, 64, 67, 0.15);\n",
              "      fill: #174EA6;\n",
              "    }\n",
              "\n",
              "    [theme=dark] .colab-df-convert {\n",
              "      background-color: #3B4455;\n",
              "      fill: #D2E3FC;\n",
              "    }\n",
              "\n",
              "    [theme=dark] .colab-df-convert:hover {\n",
              "      background-color: #434B5C;\n",
              "      box-shadow: 0px 1px 3px 1px rgba(0, 0, 0, 0.15);\n",
              "      filter: drop-shadow(0px 1px 2px rgba(0, 0, 0, 0.3));\n",
              "      fill: #FFFFFF;\n",
              "    }\n",
              "  </style>\n",
              "\n",
              "      <script>\n",
              "        const buttonEl =\n",
              "          document.querySelector('#df-b78d0343-ac94-4865-8371-8de92935c1d3 button.colab-df-convert');\n",
              "        buttonEl.style.display =\n",
              "          google.colab.kernel.accessAllowed ? 'block' : 'none';\n",
              "\n",
              "        async function convertToInteractive(key) {\n",
              "          const element = document.querySelector('#df-b78d0343-ac94-4865-8371-8de92935c1d3');\n",
              "          const dataTable =\n",
              "            await google.colab.kernel.invokeFunction('convertToInteractive',\n",
              "                                                     [key], {});\n",
              "          if (!dataTable) return;\n",
              "\n",
              "          const docLinkHtml = 'Like what you see? Visit the ' +\n",
              "            '<a target=\"_blank\" href=https://colab.research.google.com/notebooks/data_table.ipynb>data table notebook</a>'\n",
              "            + ' to learn more about interactive tables.';\n",
              "          element.innerHTML = '';\n",
              "          dataTable['output_type'] = 'display_data';\n",
              "          await google.colab.output.renderOutput(dataTable, element);\n",
              "          const docLink = document.createElement('div');\n",
              "          docLink.innerHTML = docLinkHtml;\n",
              "          element.appendChild(docLink);\n",
              "        }\n",
              "      </script>\n",
              "    </div>\n",
              "  </div>\n",
              "  "
            ]
          },
          "metadata": {},
          "execution_count": 83
        }
      ],
      "source": [
        "#drop garage year built later as this is very similar to year built\n",
        "garages=['Id', 'GarageType', 'GarageYrBlt', 'GarageFinish', 'GarageCars', 'GarageArea', 'GarageQual', 'GarageCond']\n",
        "all[all.GarageArea.isna()][garages]\n",
        "#seems that id 2577 is misrecorded and it actually does not have a garage"
      ]
    },
    {
      "cell_type": "code",
      "execution_count": 84,
      "metadata": {
        "id": "NUaaKsFE0dfT"
      },
      "outputs": [],
      "source": [
        "all.loc[all[\"Id\"] == 2577, \"GarageType\"] = 'None'\n",
        "all.loc[all[\"Id\"] == 2577, \"GarageYrBlt\"] = 'None'\n",
        "all.loc[all[\"Id\"] == 2577, \"GarageFinish\"] = 'None'\n",
        "all.loc[all[\"Id\"] == 2577, \"GarageCars\"] = 0\n",
        "all.loc[all[\"Id\"] == 2577, \"GarageArea\"] = 0\n",
        "all.loc[all[\"Id\"] == 2577, \"GarageQual\"] = 'None'\n",
        "all.loc[all[\"Id\"] == 2577, \"GarageCond\"] = 'None'\n"
      ]
    },
    {
      "cell_type": "code",
      "execution_count": 85,
      "metadata": {
        "id": "kLzL8Pw22Zzx"
      },
      "outputs": [],
      "source": [
        "(all.GarageArea==0).sum()\n",
        "all.loc[all[\"GarageArea\"] == 0, \"GarageType\"] = 'None'\n",
        "all.loc[all[\"GarageArea\"] == 0, \"GarageYrBlt\"] = 'None'\n",
        "all.loc[all[\"GarageArea\"] == 0, \"GarageFinish\"] = 'None'\n",
        "all.loc[all[\"GarageArea\"] == 0, \"GarageQual\"] = 'None'\n",
        "all.loc[all[\"GarageArea\"] == 0, \"GarageCond\"] = 'None'\n"
      ]
    },
    {
      "cell_type": "code",
      "execution_count": 86,
      "metadata": {
        "colab": {
          "base_uri": "https://localhost:8080/"
        },
        "id": "5PId6oE85Zl6",
        "outputId": "0b2602a0-149f-4f1e-846b-c4796742cee0"
      },
      "outputs": [
        {
          "output_type": "execute_result",
          "data": {
            "text/plain": [
              "TA      2654\n",
              "None     158\n",
              "Fa        74\n",
              "Gd        15\n",
              "Po        14\n",
              "Ex         3\n",
              "Name: GarageCond, dtype: int64"
            ]
          },
          "metadata": {},
          "execution_count": 86
        }
      ],
      "source": [
        "all.GarageCond.value_counts()"
      ]
    },
    {
      "cell_type": "code",
      "execution_count": 87,
      "metadata": {
        "id": "Ir0MiaBNcOBd"
      },
      "outputs": [],
      "source": [
        "all.loc[all[\"Id\"] == 2127, \"GarageFinish\"] = 'Unf'\n",
        "all.loc[all[\"Id\"] == 2127, \"GarageQual\"] = 'TA'\n",
        "all.loc[all[\"Id\"] == 2127, \"GarageCond\"] = 'TA'"
      ]
    },
    {
      "cell_type": "code",
      "execution_count": 88,
      "metadata": {
        "colab": {
          "base_uri": "https://localhost:8080/",
          "height": 81
        },
        "id": "O6dDR9z08uvj",
        "outputId": "f6af0240-01dc-4a6d-e55e-9b0e8e10fc77"
      },
      "outputs": [
        {
          "output_type": "execute_result",
          "data": {
            "text/plain": [
              "       Id  add  TotalBsmtSF\n",
              "660  2121  NaN          NaN"
            ],
            "text/html": [
              "\n",
              "  <div id=\"df-0f9ea5cd-6c5f-4192-8354-088f12f4d1c4\">\n",
              "    <div class=\"colab-df-container\">\n",
              "      <div>\n",
              "<style scoped>\n",
              "    .dataframe tbody tr th:only-of-type {\n",
              "        vertical-align: middle;\n",
              "    }\n",
              "\n",
              "    .dataframe tbody tr th {\n",
              "        vertical-align: top;\n",
              "    }\n",
              "\n",
              "    .dataframe thead th {\n",
              "        text-align: right;\n",
              "    }\n",
              "</style>\n",
              "<table border=\"1\" class=\"dataframe\">\n",
              "  <thead>\n",
              "    <tr style=\"text-align: right;\">\n",
              "      <th></th>\n",
              "      <th>Id</th>\n",
              "      <th>add</th>\n",
              "      <th>TotalBsmtSF</th>\n",
              "    </tr>\n",
              "  </thead>\n",
              "  <tbody>\n",
              "    <tr>\n",
              "      <th>660</th>\n",
              "      <td>2121</td>\n",
              "      <td>NaN</td>\n",
              "      <td>NaN</td>\n",
              "    </tr>\n",
              "  </tbody>\n",
              "</table>\n",
              "</div>\n",
              "      <button class=\"colab-df-convert\" onclick=\"convertToInteractive('df-0f9ea5cd-6c5f-4192-8354-088f12f4d1c4')\"\n",
              "              title=\"Convert this dataframe to an interactive table.\"\n",
              "              style=\"display:none;\">\n",
              "        \n",
              "  <svg xmlns=\"http://www.w3.org/2000/svg\" height=\"24px\"viewBox=\"0 0 24 24\"\n",
              "       width=\"24px\">\n",
              "    <path d=\"M0 0h24v24H0V0z\" fill=\"none\"/>\n",
              "    <path d=\"M18.56 5.44l.94 2.06.94-2.06 2.06-.94-2.06-.94-.94-2.06-.94 2.06-2.06.94zm-11 1L8.5 8.5l.94-2.06 2.06-.94-2.06-.94L8.5 2.5l-.94 2.06-2.06.94zm10 10l.94 2.06.94-2.06 2.06-.94-2.06-.94-.94-2.06-.94 2.06-2.06.94z\"/><path d=\"M17.41 7.96l-1.37-1.37c-.4-.4-.92-.59-1.43-.59-.52 0-1.04.2-1.43.59L10.3 9.45l-7.72 7.72c-.78.78-.78 2.05 0 2.83L4 21.41c.39.39.9.59 1.41.59.51 0 1.02-.2 1.41-.59l7.78-7.78 2.81-2.81c.8-.78.8-2.07 0-2.86zM5.41 20L4 18.59l7.72-7.72 1.47 1.35L5.41 20z\"/>\n",
              "  </svg>\n",
              "      </button>\n",
              "      \n",
              "  <style>\n",
              "    .colab-df-container {\n",
              "      display:flex;\n",
              "      flex-wrap:wrap;\n",
              "      gap: 12px;\n",
              "    }\n",
              "\n",
              "    .colab-df-convert {\n",
              "      background-color: #E8F0FE;\n",
              "      border: none;\n",
              "      border-radius: 50%;\n",
              "      cursor: pointer;\n",
              "      display: none;\n",
              "      fill: #1967D2;\n",
              "      height: 32px;\n",
              "      padding: 0 0 0 0;\n",
              "      width: 32px;\n",
              "    }\n",
              "\n",
              "    .colab-df-convert:hover {\n",
              "      background-color: #E2EBFA;\n",
              "      box-shadow: 0px 1px 2px rgba(60, 64, 67, 0.3), 0px 1px 3px 1px rgba(60, 64, 67, 0.15);\n",
              "      fill: #174EA6;\n",
              "    }\n",
              "\n",
              "    [theme=dark] .colab-df-convert {\n",
              "      background-color: #3B4455;\n",
              "      fill: #D2E3FC;\n",
              "    }\n",
              "\n",
              "    [theme=dark] .colab-df-convert:hover {\n",
              "      background-color: #434B5C;\n",
              "      box-shadow: 0px 1px 3px 1px rgba(0, 0, 0, 0.15);\n",
              "      filter: drop-shadow(0px 1px 2px rgba(0, 0, 0, 0.3));\n",
              "      fill: #FFFFFF;\n",
              "    }\n",
              "  </style>\n",
              "\n",
              "      <script>\n",
              "        const buttonEl =\n",
              "          document.querySelector('#df-0f9ea5cd-6c5f-4192-8354-088f12f4d1c4 button.colab-df-convert');\n",
              "        buttonEl.style.display =\n",
              "          google.colab.kernel.accessAllowed ? 'block' : 'none';\n",
              "\n",
              "        async function convertToInteractive(key) {\n",
              "          const element = document.querySelector('#df-0f9ea5cd-6c5f-4192-8354-088f12f4d1c4');\n",
              "          const dataTable =\n",
              "            await google.colab.kernel.invokeFunction('convertToInteractive',\n",
              "                                                     [key], {});\n",
              "          if (!dataTable) return;\n",
              "\n",
              "          const docLinkHtml = 'Like what you see? Visit the ' +\n",
              "            '<a target=\"_blank\" href=https://colab.research.google.com/notebooks/data_table.ipynb>data table notebook</a>'\n",
              "            + ' to learn more about interactive tables.';\n",
              "          element.innerHTML = '';\n",
              "          dataTable['output_type'] = 'display_data';\n",
              "          await google.colab.output.renderOutput(dataTable, element);\n",
              "          const docLink = document.createElement('div');\n",
              "          docLink.innerHTML = docLinkHtml;\n",
              "          element.appendChild(docLink);\n",
              "        }\n",
              "      </script>\n",
              "    </div>\n",
              "  </div>\n",
              "  "
            ]
          },
          "metadata": {},
          "execution_count": 88
        }
      ],
      "source": [
        "#basements\n",
        "basements=['Id', 'BsmtQual', 'BsmtCond', 'BsmtExposure', 'BsmtFinType1', 'BsmtFinSF1', 'BsmtFinType2', 'BsmtFinSF2', \n",
        "           'BsmtUnfSF', 'TotalBsmtSF', 'BsmtFullBath', 'BsmtHalfBath']\n",
        "all[basements].head()\n",
        "a=all['BsmtFinSF1'] + all['BsmtFinSF2'] + all['BsmtUnfSF']\n",
        "b=all['TotalBsmtSF']\n",
        "c=all['Id']\n",
        "df=pd.concat([c, a, b], axis=1)\n",
        "df.columns=['Id', 'add', 'TotalBsmtSF']\n",
        "df.query('add!=TotalBsmtSF')\n",
        "# perfect collinearity exists, consider dropping one variable"
      ]
    },
    {
      "cell_type": "code",
      "execution_count": 89,
      "metadata": {
        "id": "N8ufM44SRAzo"
      },
      "outputs": [],
      "source": [
        "#all[all.TotalBsmtSF.isna()][basements]\n",
        "#2121 does not seem to have basements\n",
        "replace_with_none=['BsmtQual', 'BsmtCond', 'BsmtExposure', 'BsmtFinType1', 'BsmtFinType2']\n",
        "replace_with_zero=['BsmtFinSF1', 'BsmtFinSF2', 'BsmtUnfSF', 'TotalBsmtSF', 'BsmtFullBath', 'BsmtHalfBath']\n",
        "all.loc[all[\"Id\"] == 2121, replace_with_none] = 'None'\n",
        "all.loc[all[\"Id\"] == 2121, replace_with_zero] = 0\n",
        "all.loc[all[\"TotalBsmtSF\"] == 0, replace_with_none] = 'None'\n",
        "all.loc[all[\"TotalBsmtSF\"] == 0, replace_with_zero] = 0\n",
        "#all[all.BsmtCond.isna()][basements]\n",
        "all.loc[all.BsmtCond.isna(), \"BsmtCond\"] = 'TA'\n",
        "all[all.Id==2186][basements]\n",
        "all.loc[all.BsmtExposure.isna(), \"BsmtExposure\"] = 'No'\n",
        "all.loc[all.BsmtQual.isna(), \"BsmtQual\"] = 'TA'\n",
        "all[all.BsmtFinType2.isna()][basements]\n",
        "all.loc[all.BsmtFinType2.isna(), \"BsmtFinType2\"] = 'GLQ'\n"
      ]
    },
    {
      "cell_type": "code",
      "execution_count": 90,
      "metadata": {
        "id": "QalwYVRWawjh"
      },
      "outputs": [],
      "source": [
        "all.loc[all.MasVnrArea.isna(), \"MasVnrArea\"] = 0\n",
        "all.loc[all.MasVnrArea==0, \"MasVnrType\"] = 'None'\n",
        "all.loc[all.MasVnrType.isna(), \"MasVnrType\"] = 'BrkFace'\n",
        "\n"
      ]
    },
    {
      "cell_type": "code",
      "execution_count": 91,
      "metadata": {
        "id": "uSXhbaAsJztR"
      },
      "outputs": [],
      "source": [
        "all.loc[all.MSZoning.isna(), \"MSZoning\"] = 'RL'\n",
        "all.loc[all.Functional.isna(), \"Functional\"] = 'Typ'\n",
        "all.loc[all.Utilities.isna(), \"Utilities\"] = 'AllPub'\n",
        "all.loc[all.KitchenQual.isna(), \"KitchenQual\"] = 'TA'\n",
        "all.loc[all.Exterior1st.isna(), \"Exterior1st\"] = 'VinylSd'\n",
        "all.loc[all.Exterior2nd.isna(), \"Exterior2nd\"] = 'VinylSd'\n",
        "all.loc[all.SaleType.isna(), \"SaleType\"] = 'WD'\n",
        "all.loc[all.Electrical.isna(), \"Electrical\"] = 'SBrkr'\n"
      ]
    },
    {
      "cell_type": "code",
      "execution_count": 92,
      "metadata": {
        "id": "INzfqoJ0NB47"
      },
      "outputs": [],
      "source": [
        "#numeric, categorical, ordinal\n",
        "#find ordinals and label encode \n",
        "\n",
        "all.LotShape=all.LotShape.replace(['Reg', 'IR1', 'IR2', 'IR3'], value=[3,2,1,0])\n",
        "all.LandSlope=all.LandSlope.replace(['Gtl', 'Mod', 'Sev'], value=[2,1,0])\n",
        "all.ExterQual=all.ExterQual.replace(['Gd', 'TA', 'Ex', 'Fa'], value=[3,2,4,1])\n",
        "all.ExterCond=all.ExterCond.replace(['TA', 'Gd', 'Fa', 'Po', 'Ex'], value=[2,3,1,0,4])\n",
        "\n",
        "grades=['Ex','Gd','TA','Fa','Po','None']\n",
        "scores=[5,4,3,2,1,0]\n",
        "\n",
        "all.BsmtQual=all.BsmtQual.replace(grades, value=scores)\n",
        "all.BsmtCond=all.BsmtCond.replace(grades, value=scores)\n",
        "\n",
        "exps=['Gd','Av','Mn','No','None']\n",
        "exps_score=[4,3,2,1,0]\n",
        "all.BsmtExposure=all.BsmtExposure.replace(exps, value=exps_score)\n",
        "\n",
        "ft=['GLQ','ALQ','BLQ','Rec','LwQ','Unf','None']\n",
        "fts=[6,5,4,3,2,1,0]\n",
        "all.BsmtFinType1=all.BsmtFinType1.replace(ft, value=fts)\n",
        "all.BsmtFinType2=all.BsmtFinType2.replace(ft, value=fts)\n",
        "\n",
        "grades_wo=['Ex','Gd','TA','Fa','Po']\n",
        "scores_wo=[4,3,2,1,0]\n",
        "all.HeatingQC=all.HeatingQC.replace(grades_wo, value=scores_wo)\n",
        "all.KitchenQual=all.KitchenQual.replace(grades_wo, value=scores_wo)\n",
        "\n",
        "f=['Typ','Min1','Min2','Mod','Maj1','Maj2','Sev','Sal']\n",
        "fs=[7,6,5,4,3,2,1,0]\n",
        "all.Functional=all.Functional.replace(f, value=fs)\n",
        "all.FireplaceQu=all.FireplaceQu.replace(grades, value=scores)\n",
        "\n",
        "gf=['Fin','RFn','Unf','None']   \n",
        "gfs=[3,2,1,0] \n",
        "all.GarageFinish=all.GarageFinish.replace(gf, value=gfs)\n",
        "all.GarageQual=all.GarageQual.replace(grades, value=scores)\n",
        "all.GarageCond=all.GarageCond.replace(grades, value=scores)\n",
        "p=['Y','P','N']\n",
        "ps=[2,1,0]\n",
        "all.PavedDrive=all.PavedDrive.replace(p, value=ps)\n",
        "pool=['Ex','Gd','TA','Fa','None']\n",
        "pools=[4,3,2,1,0]\n",
        "all.PoolQC=all.PoolQC.replace(pool, value=pools)\n",
        "\n",
        "fence=['GdPrv','MnPrv','GdWo','MnWw','None']\n",
        "fences=[4,3,2,1,0]\n",
        "all.Fence=all.Fence.replace(fence, value=fences)\n",
        "\n",
        "ordinals=['LotShape', 'LandSlope', 'ExterQual','ExterCond', 'BsmtQual', 'BsmtCond', 'BsmtExposure', 'BsmtFinType1', \n",
        "'BsmtFinType2', 'HeatingQC', 'KitchenQual', 'Functional', 'FireplaceQu', 'GarageFinish',\n",
        "'GarageQual', 'GarageCond', 'PavedDrive','PoolQC','Fence']\n",
        "\n",
        "numerics=all.dtypes[all.dtypes!='object'].index.tolist()\n",
        "numerics=[ele for ele in numerics if ele not in ordinals]\n",
        "all_vs=all.dtypes.index.tolist()\n",
        "cats=[ele for ele in all_vs if ele not in (ordinals+numerics)]\n",
        "numerics=[ele for ele in numerics if ele not in ['Id', 'SalePrice']]\n",
        "#regroup neibourhood, Exterior1st, Exterior2nd, "
      ]
    },
    {
      "cell_type": "code",
      "execution_count": 93,
      "metadata": {
        "colab": {
          "base_uri": "https://localhost:8080/",
          "height": 321
        },
        "id": "5OcwS9pkfVzN",
        "outputId": "f58ad839-bd13-4e57-afa6-46d27c4ec39c"
      },
      "outputs": [
        {
          "output_type": "display_data",
          "data": {
            "text/plain": [
              "<Figure size 432x288 with 1 Axes>"
            ],
            "image/png": "[encoded data removed]"
          },
          "metadata": {
            "needs_background": "light"
          }
        }
      ],
      "source": [
        "pd.set_option(\"display.max_columns\", None)\n",
        "all[cats].describe()\n",
        "d=all.groupby(['Neighborhood'])['SalePrice'].mean().sort_values()\n",
        "d.plot(kind='bar')\n",
        "low_neibs=['MeadowV', 'IDOTRR', 'BrDale']\n",
        "high_neibs=['StoneBr', 'NridgHt', 'NoRidge']\n",
        "all_neibs=all.Neighborhood.unique().tolist()\n",
        "med_neibs=[ele for ele in all_neibs if ele not in (low_neibs+high_neibs)]\n",
        "\n",
        "\n",
        "d_e1=all.groupby(['Exterior1st'])['SalePrice'].mean().sort_values()\n",
        "d_e1.plot(kind='bar')\n",
        "\n",
        "all_e1=all.Exterior1st.unique().tolist()\n",
        "high_e1=['VinylSd', 'CemntBd', 'Stone', 'ImStucc']\n",
        "low_e1=['BrkComm', 'AsphShn', 'CBlock']\n",
        "med_e1=[ele for ele in all_e1 if ele not in (low_e1+high_e1)]\n",
        "\n",
        "d_e2=all.groupby(['Exterior2nd'])['SalePrice'].mean().sort_values()\n",
        "\n",
        "all_e2=all.Exterior2nd.unique().tolist()\n",
        "high_e2=['CmentBd', 'ImStucc','Other' ]\n",
        "low_e2=['CBlock', 'AsbShng', 'Brk Cmn']\n",
        "med_e2=[ele for ele in all_e2 if ele not in (low_e2+high_e2)]\n"
      ]
    },
    {
      "cell_type": "code",
      "source": [
        "all.Neighborhood=all.Neighborhood.replace(high_neibs, 'High').replace(low_neibs, 'Low').replace(med_neibs, 'Middle')\n",
        "all.Exterior1st=all.Exterior1st.replace(high_e1, 'High').replace(low_e1, 'Low').replace(med_e1, 'Middle')\n",
        "all.Exterior2nd=all.Exterior2nd.replace(high_e2, 'High').replace(low_e2, 'Low').replace(med_e2, 'Middle')"
      ],
      "metadata": {
        "id": "mHEVu3qz8q9c"
      },
      "execution_count": 95,
      "outputs": []
    },
    {
      "cell_type": "code",
      "source": [
        "# make MSSubClass and month categorical instead\n",
        "numerics=[ele for ele in numerics if ele not in ['MoSold','MSSubClass']]\n",
        "cats=cats+['MoSold','MSSubClass']"
      ],
      "metadata": {
        "id": "D2gWoxdLFNfI"
      },
      "execution_count": 96,
      "outputs": []
    },
    {
      "cell_type": "code",
      "source": [
        "#drop some variable\n",
        "cats=[ele for ele in cats if ele not in 'GarageYrBlt']\n",
        "numerics=[ele for ele in numerics if ele not in 'BsmtUnfSF']"
      ],
      "metadata": {
        "id": "1kTM2CowHpP-"
      },
      "execution_count": 123,
      "outputs": []
    },
    {
      "cell_type": "code",
      "source": [
        "#one hot encode categoricals\n",
        "from sklearn.preprocessing import OneHotEncoder\n",
        "encoder = OneHotEncoder(sparse=False, drop='first')\n",
        "encoder.fit(all[cats].to_numpy())\n",
        "one_hots=encoder.transform(all[cats].to_numpy())\n",
        "#all[cats].nunique(axis=0).sum()-26\n",
        "dm_names=[\"dm_\" + str(i+1) for i in range(126)]\n",
        "df_cats=pd.DataFrame(one_hots, columns=dm_names)"
      ],
      "metadata": {
        "id": "7zmuF-pxHX5z"
      },
      "execution_count": 138,
      "outputs": []
    },
    {
      "cell_type": "code",
      "source": [
        "combine=pd.concat([all[numerics].reset_index(drop=True), all[ordinals].reset_index(drop=True), df_cats], axis=1)\n",
        "combine=combine.merge(all['SalePrice'].reset_index(drop=True), left_index=True, right_index=True)\n",
        "test1=combine[combine.SalePrice.isna()]\n",
        "train1=combine[~combine.SalePrice.isna()]\n",
        "train1x=train1.loc[:, train1.columns!='SalePrice']\n",
        "train1y=train1['SalePrice']\n",
        "test1x=test1.loc[:, test1.columns!='SalePrice']"
      ],
      "metadata": {
        "id": "FUL9zhQMNzuA"
      },
      "execution_count": 226,
      "outputs": []
    },
    {
      "cell_type": "code",
      "source": [
        "import xgboost as xgb\n",
        "model = xgb.XGBRegressor(n_estimators=100, max_depth=4, eta=0.05)\n",
        "model.fit(train1x, train1y)"
      ],
      "metadata": {
        "colab": {
          "base_uri": "https://localhost:8080/"
        },
        "id": "KKdUOj5TfZDg",
        "outputId": "b29dec28-c8c5-4386-f23d-7f704240b344"
      },
      "execution_count": 291,
      "outputs": [
        {
          "output_type": "stream",
          "name": "stdout",
          "text": [
            "[08:53:59] WARNING: /workspace/src/objective/regression_obj.cu:152: reg:linear is now deprecated in favor of reg:squarederror.\n"
          ]
        },
        {
          "output_type": "execute_result",
          "data": {
            "text/plain": [
              "XGBRegressor(eta=0.05, max_depth=4)"
            ]
          },
          "metadata": {},
          "execution_count": 291
        }
      ]
    },
    {
      "cell_type": "code",
      "source": [
        "pred_train=model.predict(train1x)\n",
        "ans=train1y.to_numpy()\n",
        "data=pd.DataFrame({'ans':ans, 'pred':pred_train})\n",
        "\n",
        "a=(np.log(data.ans)-np.log(data.pred))**2\n",
        "a=a.mean()\n",
        "a**0.5"
      ],
      "metadata": {
        "colab": {
          "base_uri": "https://localhost:8080/"
        },
        "id": "6yAPtMb6iBOl",
        "outputId": "126bedc0-6d20-422d-9092-e1e4c12fe223"
      },
      "execution_count": 292,
      "outputs": [
        {
          "output_type": "execute_result",
          "data": {
            "text/plain": [
              "0.07719956534071257"
            ]
          },
          "metadata": {},
          "execution_count": 292
        }
      ]
    },
    {
      "cell_type": "code",
      "source": [
        "pred_xgb=model.predict(test1x)\n",
        "ids=test['Id'].to_numpy()\n",
        "result=pd.DataFrame({'Id':ids, 'SalePrice':pred_xgb})\n",
        "result.to_csv('house.csv')"
      ],
      "metadata": {
        "id": "zorIqaxcij41"
      },
      "execution_count": 293,
      "outputs": []
    },
    {
      "cell_type": "code",
      "source": [
        "from sklearn.linear_model import ElasticNet\n",
        "enet=ElasticNet(alpha=5, l1_ratio=1)\n",
        "enet.fit(train1x, train1y)"
      ],
      "metadata": {
        "colab": {
          "base_uri": "https://localhost:8080/"
        },
        "id": "07zReDvlBmFf",
        "outputId": "ccfc8484-baf3-4ea5-a76d-28fe77c6ded6"
      },
      "execution_count": 255,
      "outputs": [
        {
          "output_type": "execute_result",
          "data": {
            "text/plain": [
              "ElasticNet(alpha=5, l1_ratio=1)"
            ]
          },
          "metadata": {},
          "execution_count": 255
        }
      ]
    },
    {
      "cell_type": "code",
      "source": [
        "pred_train=enet.predict(train1x)\n",
        "ans=train1y.to_numpy()\n",
        "data=pd.DataFrame({'ans':ans, 'pred':pred_train})\n",
        "\n",
        "a=(np.log(data.ans)-np.log(data.pred))**2\n",
        "a=a.mean()\n",
        "a**0.5"
      ],
      "metadata": {
        "colab": {
          "base_uri": "https://localhost:8080/"
        },
        "id": "i7J6QrBQCHKq",
        "outputId": "55719a05-b597-4c66-ce30-8ac42d111ba4"
      },
      "execution_count": 256,
      "outputs": [
        {
          "output_type": "execute_result",
          "data": {
            "text/plain": [
              "0.13770109615716006"
            ]
          },
          "metadata": {},
          "execution_count": 256
        }
      ]
    },
    {
      "cell_type": "code",
      "source": [],
      "metadata": {
        "id": "TNLi4Xz2Ja1z"
      },
      "execution_count": null,
      "outputs": []
    },
    {
      "cell_type": "code",
      "source": [
        "pred=enet.predict(test1x)\n",
        "ids=test['Id'].to_numpy()\n",
        "result=pd.DataFrame({'Id':ids, 'SalePrice':pred})\n",
        "result.to_csv('house.csv')"
      ],
      "metadata": {
        "id": "06LyuRD2CjeY"
      },
      "execution_count": 248,
      "outputs": []
    },
    {
      "cell_type": "code",
      "source": [
        "#fix skewness of response\n",
        "log_train1y=np.log(train1y)\n",
        "enet=ElasticNet(alpha=0.01, l1_ratio=0)\n",
        "enet.fit(train1x, log_train1y)"
      ],
      "metadata": {
        "colab": {
          "base_uri": "https://localhost:8080/"
        },
        "id": "znEPMSUiJdEf",
        "outputId": "558f2fd0-39db-43a0-dd7d-2facad5b5963"
      },
      "execution_count": 296,
      "outputs": [
        {
          "output_type": "stream",
          "name": "stderr",
          "text": [
            "/usr/local/lib/python3.7/dist-packages/sklearn/linear_model/_coordinate_descent.py:648: ConvergenceWarning: Objective did not converge. You might want to increase the number of iterations, check the scale of the features or consider increasing regularisation. Duality gap: 1.157e+01, tolerance: 2.328e-02 Linear regression models with null weight for the l1 regularization term are more efficiently fitted using one of the solvers implemented in sklearn.linear_model.Ridge/RidgeCV instead.\n",
            "  coef_, l1_reg, l2_reg, X, y, max_iter, tol, rng, random, positive\n"
          ]
        },
        {
          "output_type": "execute_result",
          "data": {
            "text/plain": [
              "ElasticNet(alpha=0.01, l1_ratio=0)"
            ]
          },
          "metadata": {},
          "execution_count": 296
        }
      ]
    },
    {
      "cell_type": "code",
      "source": [
        "pred_train=enet.predict(train1x)\n",
        "pred_train=np.exp(pred_train)\n",
        "ans=train1y.to_numpy()\n",
        "data=pd.DataFrame({'ans':ans, 'pred':pred_train})\n",
        "\n",
        "a=(np.log(data.ans)-np.log(data.pred))**2\n",
        "a=a.mean()\n",
        "a**0.5"
      ],
      "metadata": {
        "colab": {
          "base_uri": "https://localhost:8080/"
        },
        "id": "tgOuE0ojKMx3",
        "outputId": "7dbf77af-2f4f-47ff-9f1a-91d8c19915e8"
      },
      "execution_count": 297,
      "outputs": [
        {
          "output_type": "execute_result",
          "data": {
            "text/plain": [
              "0.12145534288095655"
            ]
          },
          "metadata": {},
          "execution_count": 297
        }
      ]
    },
    {
      "cell_type": "code",
      "source": [
        "pred_enet=enet.predict(test1x)\n",
        "pred_enet=np.exp(pred_enet)\n",
        "ids=test['Id'].to_numpy()\n",
        "result=pd.DataFrame({'Id':ids, 'SalePrice':pred_enet})\n",
        "result.to_csv('house.csv')"
      ],
      "metadata": {
        "id": "eIV3adimLxBH"
      },
      "execution_count": 298,
      "outputs": []
    },
    {
      "cell_type": "code",
      "source": [
        "pred=(pred_xgb+2*pred_enet)/3\n",
        "ids=test['Id'].to_numpy()\n",
        "result=pd.DataFrame({'Id':ids, 'SalePrice':pred})\n",
        "result.to_csv('house.csv')"
      ],
      "metadata": {
        "id": "YXK71St_NBz0"
      },
      "execution_count": 302,
      "outputs": []
    },
    {
      "cell_type": "code",
      "execution_count": null,
      "metadata": {
        "colab": {
          "base_uri": "https://localhost:8080/",
          "height": 320
        },
        "id": "QHiZ9v0AuE-y",
        "outputId": "5c6a3f00-6272-4471-bdea-a47a328058a1"
      },
      "outputs": [
        {
          "data": {
            "image/png": "[encoded data removed]",
            "text/plain": [
              "<Figure size 432x288 with 2 Axes>"
            ]
          },
          "metadata": {},
          "output_type": "display_data"
        }
      ],
      "source": [
        "#exploratory data analysis\n",
        "\n",
        "\n",
        "corr=clean_train.corr()\n",
        "ax = sns.heatmap(\n",
        "    corr, \n",
        "    vmin=-1, vmax=1, center=0,\n",
        "    cmap=sns.diverging_palette(20, 220, n=200),\n",
        "    square=True\n",
        ")\n",
        "ax.set_xticklabels(\n",
        "    ax.get_xticklabels(),\n",
        "    rotation=45,\n",
        "    horizontalalignment='right'\n",
        ");\n",
        "\n"
      ]
    },
    {
      "cell_type": "code",
      "execution_count": null,
      "metadata": {
        "id": "jcR0FmMQ0AYR"
      },
      "outputs": [],
      "source": [
        "check=(corr>0.7).sum()[(corr>0.7).sum()!=1].index.values.tolist()"
      ]
    },
    {
      "cell_type": "code",
      "execution_count": null,
      "metadata": {
        "id": "nOBL6ikf4x_J"
      },
      "outputs": [],
      "source": [
        "#TotalBsmtSF, 1stFlrSF\n",
        "#TotRmsAbvGrd, GrLivArea\n",
        "#GarageCars, GarageArea\n",
        "\n",
        "#Above variable pairs should remove one from each due to high correlation\n",
        "eda_train=clean_train.drop(columns=['TotalBsmtSF', 'TotRmsAbvGrd', 'GarageCars'])"
      ]
    },
    {
      "cell_type": "code",
      "execution_count": null,
      "metadata": {
        "colab": {
          "base_uri": "https://localhost:8080/"
        },
        "id": "MX-VF7h0_-OL",
        "outputId": "a0991c87-f446-41f0-a155-3b5f97bf931f"
      },
      "outputs": [
        {
          "data": {
            "text/plain": [
              "SalePrice        1.000000\n",
              "OverallQual      0.790982\n",
              "GrLivArea        0.708624\n",
              "GarageArea       0.623431\n",
              "1stFlrSF         0.605852\n",
              "FullBath         0.560664\n",
              "YearBuilt        0.522897\n",
              "YearRemodAdd     0.507101\n",
              "MasVnrArea       0.475241\n",
              "Fireplaces       0.466929\n",
              "BsmtFinSF1       0.386420\n",
              "WoodDeckSF       0.324413\n",
              "2ndFlrSF         0.319334\n",
              "OpenPorchSF      0.315856\n",
              "HalfBath         0.284108\n",
              "LotArea          0.263843\n",
              "BsmtFullBath     0.227122\n",
              "BsmtUnfSF        0.214479\n",
              "BedroomAbvGr     0.168213\n",
              "ScreenPorch      0.111447\n",
              "PoolArea         0.092404\n",
              "MoSold           0.046432\n",
              "3SsnPorch        0.044584\n",
              "BsmtFinSF2      -0.011378\n",
              "BsmtHalfBath    -0.016844\n",
              "MiscVal         -0.021190\n",
              "Id              -0.021917\n",
              "LowQualFinSF    -0.025606\n",
              "YrSold          -0.028923\n",
              "OverallCond     -0.077856\n",
              "MSSubClass      -0.084284\n",
              "EnclosedPorch   -0.128578\n",
              "KitchenAbvGr    -0.135907\n",
              "Name: SalePrice, dtype: float64"
            ]
          },
          "execution_count": 30,
          "metadata": {},
          "output_type": "execute_result"
        }
      ],
      "source": [
        "from pickle import TRUE\n",
        "important_num=eda_train.corr()['SalePrice']\n",
        "important_num.sort_values(ascending=False)"
      ]
    },
    {
      "cell_type": "code",
      "execution_count": null,
      "metadata": {
        "colab": {
          "base_uri": "https://localhost:8080/",
          "height": 606
        },
        "id": "_EvabBoGDGDS",
        "outputId": "24ed91e2-6eed-49d8-e276-bb5f09519451"
      },
      "outputs": [
        {
          "data": {
            "image/png": "[encoded data removed]",
            "text/plain": [
              "<Figure size 720x720 with 3 Axes>"
            ]
          },
          "metadata": {},
          "output_type": "display_data"
        }
      ],
      "source": [
        "#plot some scatter plot\n",
        "import matplotlib.pyplot as plt\n",
        "\n",
        "fig, ax = plt.subplots(3, figsize=(10, 10))\n",
        "ax[0].scatter(x = eda_train['OverallQual'], y = eda_train['SalePrice'])\n",
        "ax[0].set_xlabel(\"OverallQual\")\n",
        "ax[0].set_ylabel(\"House Price\")\n",
        "\n",
        "ax[1].scatter(x = eda_train['GrLivArea'], y = eda_train['SalePrice'])\n",
        "ax[1].set_xlabel(\"GrLivArea\")\n",
        "ax[1].set_ylabel(\"House Price\")\n",
        "\n",
        "ax[2].scatter(x = eda_train['GarageArea'], y = eda_train['SalePrice'])\n",
        "ax[2].set_xlabel(\"GarageArea\")\n",
        "ax[2].set_ylabel(\"House Price\")\n",
        "\n",
        "plt.show()\n"
      ]
    },
    {
      "cell_type": "code",
      "execution_count": null,
      "metadata": {
        "colab": {
          "base_uri": "https://localhost:8080/"
        },
        "id": "gnr184mCGXr0",
        "outputId": "ca0c43e5-5201-4404-948c-dceda536f037"
      },
      "outputs": [
        {
          "data": {
            "text/plain": [
              "SalePrice        1.000000\n",
              "OverallQual      0.809829\n",
              "GrLivArea        0.731310\n",
              "YearBuilt        0.652682\n",
              "GarageArea       0.649379\n",
              "FullBath         0.635957\n",
              "1stFlrSF         0.575408\n",
              "YearRemodAdd     0.571159\n",
              "Fireplaces       0.519247\n",
              "OpenPorchSF      0.477561\n",
              "LotArea          0.456461\n",
              "MasVnrArea       0.422884\n",
              "WoodDeckSF       0.353802\n",
              "HalfBath         0.343008\n",
              "BsmtFinSF1       0.301871\n",
              "2ndFlrSF         0.293598\n",
              "BedroomAbvGr     0.234907\n",
              "BsmtFullBath     0.225125\n",
              "EnclosedPorch    0.218394\n",
              "BsmtUnfSF        0.185197\n",
              "KitchenAbvGr     0.164826\n",
              "OverallCond      0.129325\n",
              "ScreenPorch      0.100070\n",
              "MoSold           0.069432\n",
              "LowQualFinSF     0.067719\n",
              "3SsnPorch        0.065440\n",
              "MiscVal          0.062727\n",
              "PoolArea         0.058453\n",
              "BsmtFinSF2       0.038806\n",
              "YrSold           0.029899\n",
              "Id               0.018546\n",
              "BsmtHalfBath     0.012189\n",
              "MSSubClass       0.007192\n",
              "Name: SalePrice, dtype: float64"
            ]
          },
          "execution_count": 32,
          "metadata": {},
          "output_type": "execute_result"
        }
      ],
      "source": [
        "abs(eda_train.corr(method='spearman')['SalePrice']).sort_values(ascending=False)        "
      ]
    },
    {
      "cell_type": "code",
      "execution_count": null,
      "metadata": {
        "colab": {
          "base_uri": "https://localhost:8080/",
          "height": 624
        },
        "id": "hVK8uAtYIiZM",
        "outputId": "c3d26b55-9f85-4748-bc3d-a84149232a65"
      },
      "outputs": [
        {
          "data": {
            "text/plain": [
              "Text(0, 0.5, 'House Price')"
            ]
          },
          "execution_count": 33,
          "metadata": {},
          "output_type": "execute_result"
        },
        {
          "data": {
            "image/png": "[encoded data removed]",
            "text/plain": [
              "<Figure size 720x720 with 2 Axes>"
            ]
          },
          "metadata": {},
          "output_type": "display_data"
        }
      ],
      "source": [
        "fig, ax = plt.subplots(2, figsize=(10, 10))\n",
        "ax[0].scatter(x = eda_train['YearBuilt'], y = eda_train['SalePrice'])\n",
        "ax[0].set_xlabel(\"YearBuilt\")\n",
        "ax[0].set_ylabel(\"House Price\")\n",
        "\n",
        "ax[1].scatter(x = eda_train['FullBath'], y = eda_train['SalePrice'])\n",
        "ax[1].set_xlabel(\"FullBath\")\n",
        "ax[1].set_ylabel(\"House Price\")\n"
      ]
    },
    {
      "cell_type": "code",
      "execution_count": null,
      "metadata": {
        "id": "Zrl7aUTAI29z"
      },
      "outputs": [],
      "source": [
        "categoricals=eda_train.dtypes[eda_train.dtypes=='object'].index.values.tolist()"
      ]
    },
    {
      "cell_type": "code",
      "execution_count": null,
      "metadata": {
        "id": "60WbDjQNLquT"
      },
      "outputs": [],
      "source": [
        "#Handle categoricals that contain too many levels\n",
        "pd.set_option('display.max_columns', None)\n",
        "\n",
        "eda_train[categoricals].describe()\n",
        "#Neighborhood, Exterior1st, Exterior2nd have too many levels\n",
        "\n",
        "neibs=eda_train.Neighborhood.value_counts()\n",
        "\n",
        "tokeep=neibs[neibs>=100].index.values.tolist()\n",
        "toreplace=neibs[neibs<100].index.values.tolist()\n",
        "\n",
        "eda_train.Neighborhood=eda_train.Neighborhood.replace(toreplace, value='others')\n",
        "\n",
        "eda_train.head()\n",
        "\n",
        "eda_train.Neighborhood.value_counts()\n",
        "\n",
        "\n",
        "e1=eda_train.Exterior1st.value_counts()\n",
        "toreplace_e1=e1[e1<100].index.values.tolist()\n",
        "eda_train.Exterior1st=eda_train.Exterior1st.replace(toreplace_e1, value='others')\n",
        "\n",
        "e2=eda_train.Exterior2nd.value_counts()\n",
        "toreplace_e2=e2[e2<100].index.values.tolist()\n",
        "eda_train.Exterior2nd=eda_train.Exterior2nd.replace(toreplace_e2, value='others')\n",
        "\n"
      ]
    },
    {
      "cell_type": "code",
      "execution_count": null,
      "metadata": {
        "colab": {
          "base_uri": "https://localhost:8080/",
          "height": 239
        },
        "id": "D_cWYiUZdL4T",
        "outputId": "c5b498f2-1ca6-41ab-d8f5-ada392fbd44f"
      },
      "outputs": [
        {
          "data": {
            "text/html": [
              "\n",
              "  <div id=\"df-3dbb778f-faad-4c64-8d53-6830a0ca79ea\">\n",
              "    <div class=\"colab-df-container\">\n",
              "      <div>\n",
              "<style scoped>\n",
              "    .dataframe tbody tr th:only-of-type {\n",
              "        vertical-align: middle;\n",
              "    }\n",
              "\n",
              "    .dataframe tbody tr th {\n",
              "        vertical-align: top;\n",
              "    }\n",
              "\n",
              "    .dataframe thead th {\n",
              "        text-align: right;\n",
              "    }\n",
              "</style>\n",
              "<table border=\"1\" class=\"dataframe\">\n",
              "  <thead>\n",
              "    <tr style=\"text-align: right;\">\n",
              "      <th></th>\n",
              "      <th>MSZoning</th>\n",
              "      <th>Street</th>\n",
              "      <th>LotShape</th>\n",
              "      <th>LandContour</th>\n",
              "      <th>Utilities</th>\n",
              "      <th>LotConfig</th>\n",
              "      <th>LandSlope</th>\n",
              "      <th>Neighborhood</th>\n",
              "      <th>Condition1</th>\n",
              "      <th>Condition2</th>\n",
              "      <th>BldgType</th>\n",
              "      <th>HouseStyle</th>\n",
              "      <th>RoofStyle</th>\n",
              "      <th>RoofMatl</th>\n",
              "      <th>Exterior1st</th>\n",
              "      <th>Exterior2nd</th>\n",
              "      <th>MasVnrType</th>\n",
              "      <th>ExterQual</th>\n",
              "      <th>ExterCond</th>\n",
              "      <th>Foundation</th>\n",
              "      <th>BsmtQual</th>\n",
              "      <th>BsmtCond</th>\n",
              "      <th>BsmtExposure</th>\n",
              "      <th>BsmtFinType1</th>\n",
              "      <th>BsmtFinType2</th>\n",
              "      <th>Heating</th>\n",
              "      <th>HeatingQC</th>\n",
              "      <th>CentralAir</th>\n",
              "      <th>Electrical</th>\n",
              "      <th>KitchenQual</th>\n",
              "      <th>Functional</th>\n",
              "      <th>PavedDrive</th>\n",
              "      <th>SaleType</th>\n",
              "      <th>SaleCondition</th>\n",
              "    </tr>\n",
              "  </thead>\n",
              "  <tbody>\n",
              "    <tr>\n",
              "      <th>count</th>\n",
              "      <td>1460</td>\n",
              "      <td>1460</td>\n",
              "      <td>1460</td>\n",
              "      <td>1460</td>\n",
              "      <td>1460</td>\n",
              "      <td>1460</td>\n",
              "      <td>1460</td>\n",
              "      <td>1460</td>\n",
              "      <td>1460</td>\n",
              "      <td>1460</td>\n",
              "      <td>1460</td>\n",
              "      <td>1460</td>\n",
              "      <td>1460</td>\n",
              "      <td>1460</td>\n",
              "      <td>1460</td>\n",
              "      <td>1460</td>\n",
              "      <td>1460</td>\n",
              "      <td>1460</td>\n",
              "      <td>1460</td>\n",
              "      <td>1460</td>\n",
              "      <td>1460</td>\n",
              "      <td>1460</td>\n",
              "      <td>1460</td>\n",
              "      <td>1460</td>\n",
              "      <td>1460</td>\n",
              "      <td>1460</td>\n",
              "      <td>1460</td>\n",
              "      <td>1460</td>\n",
              "      <td>1460</td>\n",
              "      <td>1460</td>\n",
              "      <td>1460</td>\n",
              "      <td>1460</td>\n",
              "      <td>1460</td>\n",
              "      <td>1460</td>\n",
              "    </tr>\n",
              "    <tr>\n",
              "      <th>unique</th>\n",
              "      <td>5</td>\n",
              "      <td>2</td>\n",
              "      <td>4</td>\n",
              "      <td>4</td>\n",
              "      <td>2</td>\n",
              "      <td>5</td>\n",
              "      <td>3</td>\n",
              "      <td>5</td>\n",
              "      <td>9</td>\n",
              "      <td>8</td>\n",
              "      <td>5</td>\n",
              "      <td>8</td>\n",
              "      <td>6</td>\n",
              "      <td>8</td>\n",
              "      <td>6</td>\n",
              "      <td>6</td>\n",
              "      <td>4</td>\n",
              "      <td>4</td>\n",
              "      <td>5</td>\n",
              "      <td>6</td>\n",
              "      <td>4</td>\n",
              "      <td>4</td>\n",
              "      <td>4</td>\n",
              "      <td>6</td>\n",
              "      <td>6</td>\n",
              "      <td>6</td>\n",
              "      <td>5</td>\n",
              "      <td>2</td>\n",
              "      <td>5</td>\n",
              "      <td>4</td>\n",
              "      <td>7</td>\n",
              "      <td>3</td>\n",
              "      <td>9</td>\n",
              "      <td>6</td>\n",
              "    </tr>\n",
              "    <tr>\n",
              "      <th>top</th>\n",
              "      <td>RL</td>\n",
              "      <td>Pave</td>\n",
              "      <td>Reg</td>\n",
              "      <td>Lvl</td>\n",
              "      <td>AllPub</td>\n",
              "      <td>Inside</td>\n",
              "      <td>Gtl</td>\n",
              "      <td>others</td>\n",
              "      <td>Norm</td>\n",
              "      <td>Norm</td>\n",
              "      <td>1Fam</td>\n",
              "      <td>1Story</td>\n",
              "      <td>Gable</td>\n",
              "      <td>CompShg</td>\n",
              "      <td>VinylSd</td>\n",
              "      <td>VinylSd</td>\n",
              "      <td>None</td>\n",
              "      <td>TA</td>\n",
              "      <td>TA</td>\n",
              "      <td>PConc</td>\n",
              "      <td>TA</td>\n",
              "      <td>TA</td>\n",
              "      <td>No</td>\n",
              "      <td>Unf</td>\n",
              "      <td>Unf</td>\n",
              "      <td>GasA</td>\n",
              "      <td>Ex</td>\n",
              "      <td>Y</td>\n",
              "      <td>SBrkr</td>\n",
              "      <td>TA</td>\n",
              "      <td>Typ</td>\n",
              "      <td>Y</td>\n",
              "      <td>WD</td>\n",
              "      <td>Normal</td>\n",
              "    </tr>\n",
              "    <tr>\n",
              "      <th>freq</th>\n",
              "      <td>1151</td>\n",
              "      <td>1454</td>\n",
              "      <td>925</td>\n",
              "      <td>1311</td>\n",
              "      <td>1459</td>\n",
              "      <td>1052</td>\n",
              "      <td>1382</td>\n",
              "      <td>872</td>\n",
              "      <td>1260</td>\n",
              "      <td>1445</td>\n",
              "      <td>1220</td>\n",
              "      <td>726</td>\n",
              "      <td>1141</td>\n",
              "      <td>1434</td>\n",
              "      <td>515</td>\n",
              "      <td>504</td>\n",
              "      <td>872</td>\n",
              "      <td>906</td>\n",
              "      <td>1282</td>\n",
              "      <td>647</td>\n",
              "      <td>686</td>\n",
              "      <td>1348</td>\n",
              "      <td>991</td>\n",
              "      <td>467</td>\n",
              "      <td>1294</td>\n",
              "      <td>1428</td>\n",
              "      <td>741</td>\n",
              "      <td>1365</td>\n",
              "      <td>1335</td>\n",
              "      <td>735</td>\n",
              "      <td>1360</td>\n",
              "      <td>1340</td>\n",
              "      <td>1267</td>\n",
              "      <td>1198</td>\n",
              "    </tr>\n",
              "  </tbody>\n",
              "</table>\n",
              "</div>\n",
              "      <button class=\"colab-df-convert\" onclick=\"convertToInteractive('df-3dbb778f-faad-4c64-8d53-6830a0ca79ea')\"\n",
              "              title=\"Convert this dataframe to an interactive table.\"\n",
              "              style=\"display:none;\">\n",
              "        \n",
              "  <svg xmlns=\"http://www.w3.org/2000/svg\" height=\"24px\"viewBox=\"0 0 24 24\"\n",
              "       width=\"24px\">\n",
              "    <path d=\"M0 0h24v24H0V0z\" fill=\"none\"/>\n",
              "    <path d=\"M18.56 5.44l.94 2.06.94-2.06 2.06-.94-2.06-.94-.94-2.06-.94 2.06-2.06.94zm-11 1L8.5 8.5l.94-2.06 2.06-.94-2.06-.94L8.5 2.5l-.94 2.06-2.06.94zm10 10l.94 2.06.94-2.06 2.06-.94-2.06-.94-.94-2.06-.94 2.06-2.06.94z\"/><path d=\"M17.41 7.96l-1.37-1.37c-.4-.4-.92-.59-1.43-.59-.52 0-1.04.2-1.43.59L10.3 9.45l-7.72 7.72c-.78.78-.78 2.05 0 2.83L4 21.41c.39.39.9.59 1.41.59.51 0 1.02-.2 1.41-.59l7.78-7.78 2.81-2.81c.8-.78.8-2.07 0-2.86zM5.41 20L4 18.59l7.72-7.72 1.47 1.35L5.41 20z\"/>\n",
              "  </svg>\n",
              "      </button>\n",
              "      \n",
              "  <style>\n",
              "    .colab-df-container {\n",
              "      display:flex;\n",
              "      flex-wrap:wrap;\n",
              "      gap: 12px;\n",
              "    }\n",
              "\n",
              "    .colab-df-convert {\n",
              "      background-color: #E8F0FE;\n",
              "      border: none;\n",
              "      border-radius: 50%;\n",
              "      cursor: pointer;\n",
              "      display: none;\n",
              "      fill: #1967D2;\n",
              "      height: 32px;\n",
              "      padding: 0 0 0 0;\n",
              "      width: 32px;\n",
              "    }\n",
              "\n",
              "    .colab-df-convert:hover {\n",
              "      background-color: #E2EBFA;\n",
              "      box-shadow: 0px 1px 2px rgba(60, 64, 67, 0.3), 0px 1px 3px 1px rgba(60, 64, 67, 0.15);\n",
              "      fill: #174EA6;\n",
              "    }\n",
              "\n",
              "    [theme=dark] .colab-df-convert {\n",
              "      background-color: #3B4455;\n",
              "      fill: #D2E3FC;\n",
              "    }\n",
              "\n",
              "    [theme=dark] .colab-df-convert:hover {\n",
              "      background-color: #434B5C;\n",
              "      box-shadow: 0px 1px 3px 1px rgba(0, 0, 0, 0.15);\n",
              "      filter: drop-shadow(0px 1px 2px rgba(0, 0, 0, 0.3));\n",
              "      fill: #FFFFFF;\n",
              "    }\n",
              "  </style>\n",
              "\n",
              "      <script>\n",
              "        const buttonEl =\n",
              "          document.querySelector('#df-3dbb778f-faad-4c64-8d53-6830a0ca79ea button.colab-df-convert');\n",
              "        buttonEl.style.display =\n",
              "          google.colab.kernel.accessAllowed ? 'block' : 'none';\n",
              "\n",
              "        async function convertToInteractive(key) {\n",
              "          const element = document.querySelector('#df-3dbb778f-faad-4c64-8d53-6830a0ca79ea');\n",
              "          const dataTable =\n",
              "            await google.colab.kernel.invokeFunction('convertToInteractive',\n",
              "                                                     [key], {});\n",
              "          if (!dataTable) return;\n",
              "\n",
              "          const docLinkHtml = 'Like what you see? Visit the ' +\n",
              "            '<a target=\"_blank\" href=https://colab.research.google.com/notebooks/data_table.ipynb>data table notebook</a>'\n",
              "            + ' to learn more about interactive tables.';\n",
              "          element.innerHTML = '';\n",
              "          dataTable['output_type'] = 'display_data';\n",
              "          await google.colab.output.renderOutput(dataTable, element);\n",
              "          const docLink = document.createElement('div');\n",
              "          docLink.innerHTML = docLinkHtml;\n",
              "          element.appendChild(docLink);\n",
              "        }\n",
              "      </script>\n",
              "    </div>\n",
              "  </div>\n",
              "  "
            ],
            "text/plain": [
              "       MSZoning Street LotShape LandContour Utilities LotConfig LandSlope  \\\n",
              "count      1460   1460     1460        1460      1460      1460      1460   \n",
              "unique        5      2        4           4         2         5         3   \n",
              "top          RL   Pave      Reg         Lvl    AllPub    Inside       Gtl   \n",
              "freq       1151   1454      925        1311      1459      1052      1382   \n",
              "\n",
              "       Neighborhood Condition1 Condition2 BldgType HouseStyle RoofStyle  \\\n",
              "count          1460       1460       1460     1460       1460      1460   \n",
              "unique            5          9          8        5          8         6   \n",
              "top          others       Norm       Norm     1Fam     1Story     Gable   \n",
              "freq            872       1260       1445     1220        726      1141   \n",
              "\n",
              "       RoofMatl Exterior1st Exterior2nd MasVnrType ExterQual ExterCond  \\\n",
              "count      1460        1460        1460       1460      1460      1460   \n",
              "unique        8           6           6          4         4         5   \n",
              "top     CompShg     VinylSd     VinylSd       None        TA        TA   \n",
              "freq       1434         515         504        872       906      1282   \n",
              "\n",
              "       Foundation BsmtQual BsmtCond BsmtExposure BsmtFinType1 BsmtFinType2  \\\n",
              "count        1460     1460     1460         1460         1460         1460   \n",
              "unique          6        4        4            4            6            6   \n",
              "top         PConc       TA       TA           No          Unf          Unf   \n",
              "freq          647      686     1348          991          467         1294   \n",
              "\n",
              "       Heating HeatingQC CentralAir Electrical KitchenQual Functional  \\\n",
              "count     1460      1460       1460       1460        1460       1460   \n",
              "unique       6         5          2          5           4          7   \n",
              "top       GasA        Ex          Y      SBrkr          TA        Typ   \n",
              "freq      1428       741       1365       1335         735       1360   \n",
              "\n",
              "       PavedDrive SaleType SaleCondition  \n",
              "count        1460     1460          1460  \n",
              "unique          3        9             6  \n",
              "top             Y       WD        Normal  \n",
              "freq         1340     1267          1198  "
            ]
          },
          "execution_count": 36,
          "metadata": {},
          "output_type": "execute_result"
        }
      ],
      "source": [
        "eda_train[categoricals].describe()\n"
      ]
    },
    {
      "cell_type": "code",
      "execution_count": null,
      "metadata": {
        "id": "-PmXKXGcgpcq"
      },
      "outputs": [],
      "source": [
        "from sklearn.datasets import make_regression\n",
        "from sklearn.tree import DecisionTreeRegressor\n",
        "from matplotlib import pyplot"
      ]
    },
    {
      "cell_type": "code",
      "execution_count": null,
      "metadata": {
        "colab": {
          "base_uri": "https://localhost:8080/",
          "height": 279
        },
        "id": "h9Eh5Suogzts",
        "outputId": "98fa85e0-34b3-461a-b135-03eaa1e3ed7e"
      },
      "outputs": [
        {
          "data": {
            "image/png": "[encoded data removed]",
            "text/plain": [
              "<Figure size 432x288 with 1 Axes>"
            ]
          },
          "metadata": {},
          "output_type": "display_data"
        }
      ],
      "source": [
        "#Utilities,Neighborhood,HeatingQC,Functional, Exterior1st, LotShape, Street, HouseStyle\n",
        "#investigate the above categoricals\n",
        "\n",
        "eda_train.Utilities.value_counts()\n",
        "#very unbalnced\n",
        "\n",
        "\n",
        "ax = sns.boxplot(x='Neighborhood', y='SalePrice', data=eda_train, color='#99c2a2')\n",
        "#HeatingQC, HouseStyle, \n"
      ]
    },
    {
      "cell_type": "code",
      "execution_count": null,
      "metadata": {
        "colab": {
          "base_uri": "https://localhost:8080/",
          "height": 279
        },
        "id": "5R-0k7Mfwuf7",
        "outputId": "d5089d56-92df-48de-cfe5-cce82fde390c"
      },
      "outputs": [
        {
          "data": {
            "image/png": "[encoded data removed]",
            "text/plain": [
              "<Figure size 432x288 with 1 Axes>"
            ]
          },
          "metadata": {},
          "output_type": "display_data"
        }
      ],
      "source": [
        "#Utilities,Neighborhood,HeatingQC,Functional, Exterior1st, LotShape, Street, HouseStyle\n",
        "#investigate the above categoricals\n",
        "\n",
        "eda_train.Utilities.value_counts()\n",
        "#very unbalnced\n",
        "\n",
        "\n",
        "ax = sns.boxplot(x='Neighborhood', y='SalePrice', data=eda_train, color='#99c2a2')\n",
        "#HeatingQC, HouseStyle, Neighborhood\n"
      ]
    },
    {
      "cell_type": "code",
      "execution_count": null,
      "metadata": {
        "id": "GYTSNIV9wBy7"
      },
      "outputs": [],
      "source": [
        "from numpy import asarray\n",
        "from sklearn.preprocessing import OneHotEncoder"
      ]
    },
    {
      "cell_type": "code",
      "execution_count": null,
      "metadata": {
        "colab": {
          "base_uri": "https://localhost:8080/"
        },
        "id": "WuSfQ2LJ9bUs",
        "outputId": "8ced8e05-1848-4364-9ae3-845337a58559"
      },
      "outputs": [
        {
          "name": "stderr",
          "output_type": "stream",
          "text": [
            "/usr/local/lib/python3.7/dist-packages/pandas/core/generic.py:5516: SettingWithCopyWarning: \n",
            "A value is trying to be set on a copy of a slice from a DataFrame.\n",
            "Try using .loc[row_indexer,col_indexer] = value instead\n",
            "\n",
            "See the caveats in the documentation: https://pandas.pydata.org/pandas-docs/stable/user_guide/indexing.html#returning-a-view-versus-a-copy\n",
            "  self[name] = value\n"
          ]
        }
      ],
      "source": [
        "#try 1\n",
        "\n",
        "#process categoricals\n",
        "test = pd.read_csv('test.csv')\n",
        "\n",
        "\n",
        "train_cat=eda_train[['HeatingQC', 'HouseStyle', 'Neighborhood']]\n",
        "test_cat=test[['HeatingQC', 'HouseStyle', 'Neighborhood']]\n",
        "\n",
        "all=test_cat.Neighborhood.value_counts().index.values.tolist()\n",
        "toreplace=[ele for ele in all if ele not in tokeep]\n",
        "test_cat.Neighborhood=test_cat.Neighborhood.replace(toreplace, value='others')\n",
        "\n",
        "all_cat=pd.concat([train_cat, test_cat], axis=0)\n",
        "\n",
        "\n",
        "encoder = OneHotEncoder(sparse=False, drop='first')\n",
        "encoder.fit(all_cat.to_numpy())\n",
        "\n",
        "train_cat=encoder.transform(train_cat.to_numpy())\n",
        "test_cat=encoder.transform(test_cat.to_numpy())\n",
        "\n",
        "HeatingQC_levels=encoder.categories_[0].tolist()[1:]\n",
        "HeatingQC_labels=['HeatingQC_' + element for element in HeatingQC_levels]\n",
        "\n",
        "HouseStyle_levels=encoder.categories_[1].tolist()[1:]\n",
        "HouseStyle_labels=['HouseStyle_' + element for element in HouseStyle_levels]\n",
        "\n",
        "Neighborhood_levels=encoder.categories_[2].tolist()[1:]\n",
        "Neighborhood_labels=['Neighborhood_' + element for element in Neighborhood_levels]\n",
        "\n",
        "all_labels=HeatingQC_labels+HouseStyle_labels+Neighborhood_labels\n",
        "\n",
        "train_cat=pd.DataFrame(train_cat, columns = all_labels)\n",
        "test_cat=pd.DataFrame(test_cat, columns = all_labels)\n"
      ]
    },
    {
      "cell_type": "code",
      "execution_count": null,
      "metadata": {
        "id": "mZbv_wFOGo7t"
      },
      "outputs": [],
      "source": [
        "#process nums\n",
        "\n",
        "train_num=eda_train[['OverallQual', 'GrLivArea', 'GarageArea', 'YearBuilt', 'FullBath']]\n",
        "test_num=test[['OverallQual', 'GrLivArea', 'GarageArea', 'YearBuilt', 'FullBath']]\n",
        "test_num=test_num.fillna(np.mean(test_num))\n",
        "\n",
        "#combine num and cat\n",
        "train1=pd.concat([train_num, train_cat], axis=1)\n",
        "test1=pd.concat([test_num, test_cat], axis=1)\n",
        "\n",
        "train_y=eda_train['SalePrice']\n"
      ]
    },
    {
      "cell_type": "code",
      "execution_count": null,
      "metadata": {
        "colab": {
          "base_uri": "https://localhost:8080/"
        },
        "id": "sXsMsFESIJso",
        "outputId": "fa688387-fe0e-4285-8c19-81e5a16a5635"
      },
      "outputs": [
        {
          "data": {
            "text/plain": [
              "RandomForestRegressor(n_estimators=500, random_state=42)"
            ]
          },
          "execution_count": 43,
          "metadata": {},
          "output_type": "execute_result"
        }
      ],
      "source": [
        "from sklearn.ensemble import RandomForestRegressor\n",
        "rf = RandomForestRegressor(n_estimators = 500, random_state = 42)\n",
        "rf.fit(train1, train_y)"
      ]
    },
    {
      "cell_type": "code",
      "execution_count": null,
      "metadata": {
        "id": "awQlrtxoI5hw"
      },
      "outputs": [],
      "source": [
        "pred=rf.predict(test1)"
      ]
    },
    {
      "cell_type": "code",
      "execution_count": null,
      "metadata": {
        "id": "sH2RyiSTJBYW"
      },
      "outputs": [],
      "source": [
        "ids=test['Id'].to_numpy()\n",
        "result=pd.DataFrame({'Id':ids, 'SalePrice':pred})\n",
        "result.to_csv('house.csv')\n"
      ]
    },
    {
      "cell_type": "code",
      "execution_count": null,
      "metadata": {
        "colab": {
          "base_uri": "https://localhost:8080/"
        },
        "id": "lMTEPZMWSfSA",
        "outputId": "4f4910fc-7fc0-4354-8bef-2f6402f274de"
      },
      "outputs": [
        {
          "data": {
            "text/plain": [
              "0.06793985540443262"
            ]
          },
          "execution_count": 46,
          "metadata": {},
          "output_type": "execute_result"
        }
      ],
      "source": [
        "pred_train=rf.predict(train1)\n",
        "ans=train_y.to_numpy()\n",
        "data=pd.DataFrame({'ans':ans, 'pred':pred_train})\n",
        "\n",
        "a=(np.log(data.ans)-np.log(data.pred))**2\n",
        "a=a.mean()\n",
        "a**0.5"
      ]
    },
    {
      "cell_type": "code",
      "execution_count": null,
      "metadata": {
        "colab": {
          "base_uri": "https://localhost:8080/"
        },
        "id": "hLs_N5CWZDc0",
        "outputId": "5a654d5e-0144-46e4-9b72-0373a816ba48"
      },
      "outputs": [
        {
          "data": {
            "text/plain": [
              "{'bootstrap': True,\n",
              " 'ccp_alpha': 0.0,\n",
              " 'criterion': 'squared_error',\n",
              " 'max_depth': None,\n",
              " 'max_features': 'auto',\n",
              " 'max_leaf_nodes': None,\n",
              " 'max_samples': None,\n",
              " 'min_impurity_decrease': 0.0,\n",
              " 'min_samples_leaf': 1,\n",
              " 'min_samples_split': 2,\n",
              " 'min_weight_fraction_leaf': 0.0,\n",
              " 'n_estimators': 500,\n",
              " 'n_jobs': None,\n",
              " 'oob_score': False,\n",
              " 'random_state': 42,\n",
              " 'verbose': 0,\n",
              " 'warm_start': False}"
            ]
          },
          "execution_count": 47,
          "metadata": {},
          "output_type": "execute_result"
        }
      ],
      "source": [
        "rf.get_params()"
      ]
    },
    {
      "cell_type": "code",
      "execution_count": null,
      "metadata": {
        "id": "BqzzUulGWH80"
      },
      "outputs": [],
      "source": [
        "from sklearn.model_selection import RandomizedSearchCV\n",
        "\n",
        "n_estimators = [int(x) for x in np.linspace(start = 200, stop = 2000, num = 10)]\n",
        "max_features = ['auto', 'sqrt']\n",
        "max_depth = [int(x) for x in np.linspace(10, 110, num = 11)]\n",
        "max_depth.append(None)\n",
        "min_samples_split = [2, 5, 10]\n",
        "min_samples_leaf = [2, 5, 10]\n",
        "bootstrap = [True, False]\n",
        "\n",
        "# Create the random grid\n",
        "random_grid = {'n_estimators': n_estimators,\n",
        "               'max_features': max_features,\n",
        "               'max_depth': max_depth,\n",
        "               'min_samples_split': min_samples_split,\n",
        "               'min_samples_leaf': min_samples_leaf,\n",
        "               'bootstrap': bootstrap}"
      ]
    },
    {
      "cell_type": "code",
      "execution_count": null,
      "metadata": {
        "colab": {
          "base_uri": "https://localhost:8080/",
          "height": 371
        },
        "id": "ONyR7UPbW7Cj",
        "outputId": "93a9cc62-9690-422c-eb51-0f7d126f9730"
      },
      "outputs": [
        {
          "name": "stdout",
          "output_type": "stream",
          "text": [
            "Fitting 5 folds for each of 100 candidates, totalling 500 fits\n"
          ]
        },
        {
          "ename": "KeyboardInterrupt",
          "evalue": "ignored",
          "output_type": "error",
          "traceback": [
            "\u001b[0;31m---------------------------------------------------------------------------\u001b[0m",
            "\u001b[0;31mKeyboardInterrupt\u001b[0m                         Traceback (most recent call last)",
            "\u001b[0;32m<ipython-input-49-e9b925bc3c0f>\u001b[0m in \u001b[0;36m<module>\u001b[0;34m\u001b[0m\n\u001b[1;32m      3\u001b[0m \u001b[0mrf_random\u001b[0m \u001b[0;34m=\u001b[0m \u001b[0mRandomizedSearchCV\u001b[0m\u001b[0;34m(\u001b[0m\u001b[0mestimator\u001b[0m \u001b[0;34m=\u001b[0m \u001b[0mrf\u001b[0m\u001b[0;34m,\u001b[0m \u001b[0mparam_distributions\u001b[0m \u001b[0;34m=\u001b[0m \u001b[0mrandom_grid\u001b[0m\u001b[0;34m,\u001b[0m \u001b[0mn_iter\u001b[0m \u001b[0;34m=\u001b[0m \u001b[0;36m100\u001b[0m\u001b[0;34m,\u001b[0m \u001b[0mcv\u001b[0m \u001b[0;34m=\u001b[0m \u001b[0;36m5\u001b[0m\u001b[0;34m,\u001b[0m \u001b[0mverbose\u001b[0m\u001b[0;34m=\u001b[0m\u001b[0;36m2\u001b[0m\u001b[0;34m,\u001b[0m \u001b[0mrandom_state\u001b[0m\u001b[0;34m=\u001b[0m\u001b[0;36m42\u001b[0m\u001b[0;34m,\u001b[0m \u001b[0mn_jobs\u001b[0m \u001b[0;34m=\u001b[0m \u001b[0;34m-\u001b[0m\u001b[0;36m1\u001b[0m\u001b[0;34m)\u001b[0m\u001b[0;34m\u001b[0m\u001b[0;34m\u001b[0m\u001b[0m\n\u001b[1;32m      4\u001b[0m \u001b[0;34m\u001b[0m\u001b[0m\n\u001b[0;32m----> 5\u001b[0;31m \u001b[0mrf_random\u001b[0m\u001b[0;34m.\u001b[0m\u001b[0mfit\u001b[0m\u001b[0;34m(\u001b[0m\u001b[0mtrain1\u001b[0m\u001b[0;34m,\u001b[0m \u001b[0mtrain_y\u001b[0m\u001b[0;34m)\u001b[0m\u001b[0;34m\u001b[0m\u001b[0;34m\u001b[0m\u001b[0m\n\u001b[0m",
            "\u001b[0;32m/usr/local/lib/python3.7/dist-packages/sklearn/model_selection/_search.py\u001b[0m in \u001b[0;36mfit\u001b[0;34m(self, X, y, groups, **fit_params)\u001b[0m\n\u001b[1;32m    889\u001b[0m                 \u001b[0;32mreturn\u001b[0m \u001b[0mresults\u001b[0m\u001b[0;34m\u001b[0m\u001b[0;34m\u001b[0m\u001b[0m\n\u001b[1;32m    890\u001b[0m \u001b[0;34m\u001b[0m\u001b[0m\n\u001b[0;32m--> 891\u001b[0;31m             \u001b[0mself\u001b[0m\u001b[0;34m.\u001b[0m\u001b[0m_run_search\u001b[0m\u001b[0;34m(\u001b[0m\u001b[0mevaluate_candidates\u001b[0m\u001b[0;34m)\u001b[0m\u001b[0;34m\u001b[0m\u001b[0;34m\u001b[0m\u001b[0m\n\u001b[0m\u001b[1;32m    892\u001b[0m \u001b[0;34m\u001b[0m\u001b[0m\n\u001b[1;32m    893\u001b[0m             \u001b[0;31m# multimetric is determined here because in the case of a callable\u001b[0m\u001b[0;34m\u001b[0m\u001b[0;34m\u001b[0m\u001b[0;34m\u001b[0m\u001b[0m\n",
            "\u001b[0;32m/usr/local/lib/python3.7/dist-packages/sklearn/model_selection/_search.py\u001b[0m in \u001b[0;36m_run_search\u001b[0;34m(self, evaluate_candidates)\u001b[0m\n\u001b[1;32m   1766\u001b[0m         evaluate_candidates(\n\u001b[1;32m   1767\u001b[0m             ParameterSampler(\n\u001b[0;32m-> 1768\u001b[0;31m                 \u001b[0mself\u001b[0m\u001b[0;34m.\u001b[0m\u001b[0mparam_distributions\u001b[0m\u001b[0;34m,\u001b[0m \u001b[0mself\u001b[0m\u001b[0;34m.\u001b[0m\u001b[0mn_iter\u001b[0m\u001b[0;34m,\u001b[0m \u001b[0mrandom_state\u001b[0m\u001b[0;34m=\u001b[0m\u001b[0mself\u001b[0m\u001b[0;34m.\u001b[0m\u001b[0mrandom_state\u001b[0m\u001b[0;34m\u001b[0m\u001b[0;34m\u001b[0m\u001b[0m\n\u001b[0m\u001b[1;32m   1769\u001b[0m             )\n\u001b[1;32m   1770\u001b[0m         )\n",
            "\u001b[0;32m/usr/local/lib/python3.7/dist-packages/sklearn/model_selection/_search.py\u001b[0m in \u001b[0;36mevaluate_candidates\u001b[0;34m(candidate_params, cv, more_results)\u001b[0m\n\u001b[1;32m    849\u001b[0m                     )\n\u001b[1;32m    850\u001b[0m                     for (cand_idx, parameters), (split_idx, (train, test)) in product(\n\u001b[0;32m--> 851\u001b[0;31m                         \u001b[0menumerate\u001b[0m\u001b[0;34m(\u001b[0m\u001b[0mcandidate_params\u001b[0m\u001b[0;34m)\u001b[0m\u001b[0;34m,\u001b[0m \u001b[0menumerate\u001b[0m\u001b[0;34m(\u001b[0m\u001b[0mcv\u001b[0m\u001b[0;34m.\u001b[0m\u001b[0msplit\u001b[0m\u001b[0;34m(\u001b[0m\u001b[0mX\u001b[0m\u001b[0;34m,\u001b[0m \u001b[0my\u001b[0m\u001b[0;34m,\u001b[0m \u001b[0mgroups\u001b[0m\u001b[0;34m)\u001b[0m\u001b[0;34m)\u001b[0m\u001b[0;34m\u001b[0m\u001b[0;34m\u001b[0m\u001b[0m\n\u001b[0m\u001b[1;32m    852\u001b[0m                     )\n\u001b[1;32m    853\u001b[0m                 )\n",
            "\u001b[0;32m/usr/local/lib/python3.7/dist-packages/joblib/parallel.py\u001b[0m in \u001b[0;36m__call__\u001b[0;34m(self, iterable)\u001b[0m\n\u001b[1;32m   1054\u001b[0m \u001b[0;34m\u001b[0m\u001b[0m\n\u001b[1;32m   1055\u001b[0m             \u001b[0;32mwith\u001b[0m \u001b[0mself\u001b[0m\u001b[0;34m.\u001b[0m\u001b[0m_backend\u001b[0m\u001b[0;34m.\u001b[0m\u001b[0mretrieval_context\u001b[0m\u001b[0;34m(\u001b[0m\u001b[0;34m)\u001b[0m\u001b[0;34m:\u001b[0m\u001b[0;34m\u001b[0m\u001b[0;34m\u001b[0m\u001b[0m\n\u001b[0;32m-> 1056\u001b[0;31m                 \u001b[0mself\u001b[0m\u001b[0;34m.\u001b[0m\u001b[0mretrieve\u001b[0m\u001b[0;34m(\u001b[0m\u001b[0;34m)\u001b[0m\u001b[0;34m\u001b[0m\u001b[0;34m\u001b[0m\u001b[0m\n\u001b[0m\u001b[1;32m   1057\u001b[0m             \u001b[0;31m# Make sure that we get a last message telling us we are done\u001b[0m\u001b[0;34m\u001b[0m\u001b[0;34m\u001b[0m\u001b[0;34m\u001b[0m\u001b[0m\n\u001b[1;32m   1058\u001b[0m             \u001b[0melapsed_time\u001b[0m \u001b[0;34m=\u001b[0m \u001b[0mtime\u001b[0m\u001b[0;34m.\u001b[0m\u001b[0mtime\u001b[0m\u001b[0;34m(\u001b[0m\u001b[0;34m)\u001b[0m \u001b[0;34m-\u001b[0m \u001b[0mself\u001b[0m\u001b[0;34m.\u001b[0m\u001b[0m_start_time\u001b[0m\u001b[0;34m\u001b[0m\u001b[0;34m\u001b[0m\u001b[0m\n",
            "\u001b[0;32m/usr/local/lib/python3.7/dist-packages/joblib/parallel.py\u001b[0m in \u001b[0;36mretrieve\u001b[0;34m(self)\u001b[0m\n\u001b[1;32m    933\u001b[0m             \u001b[0;32mtry\u001b[0m\u001b[0;34m:\u001b[0m\u001b[0;34m\u001b[0m\u001b[0;34m\u001b[0m\u001b[0m\n\u001b[1;32m    934\u001b[0m                 \u001b[0;32mif\u001b[0m \u001b[0mgetattr\u001b[0m\u001b[0;34m(\u001b[0m\u001b[0mself\u001b[0m\u001b[0;34m.\u001b[0m\u001b[0m_backend\u001b[0m\u001b[0;34m,\u001b[0m \u001b[0;34m'supports_timeout'\u001b[0m\u001b[0;34m,\u001b[0m \u001b[0;32mFalse\u001b[0m\u001b[0;34m)\u001b[0m\u001b[0;34m:\u001b[0m\u001b[0;34m\u001b[0m\u001b[0;34m\u001b[0m\u001b[0m\n\u001b[0;32m--> 935\u001b[0;31m                     \u001b[0mself\u001b[0m\u001b[0;34m.\u001b[0m\u001b[0m_output\u001b[0m\u001b[0;34m.\u001b[0m\u001b[0mextend\u001b[0m\u001b[0;34m(\u001b[0m\u001b[0mjob\u001b[0m\u001b[0;34m.\u001b[0m\u001b[0mget\u001b[0m\u001b[0;34m(\u001b[0m\u001b[0mtimeout\u001b[0m\u001b[0;34m=\u001b[0m\u001b[0mself\u001b[0m\u001b[0;34m.\u001b[0m\u001b[0mtimeout\u001b[0m\u001b[0;34m)\u001b[0m\u001b[0;34m)\u001b[0m\u001b[0;34m\u001b[0m\u001b[0;34m\u001b[0m\u001b[0m\n\u001b[0m\u001b[1;32m    936\u001b[0m                 \u001b[0;32melse\u001b[0m\u001b[0;34m:\u001b[0m\u001b[0;34m\u001b[0m\u001b[0;34m\u001b[0m\u001b[0m\n\u001b[1;32m    937\u001b[0m                     \u001b[0mself\u001b[0m\u001b[0;34m.\u001b[0m\u001b[0m_output\u001b[0m\u001b[0;34m.\u001b[0m\u001b[0mextend\u001b[0m\u001b[0;34m(\u001b[0m\u001b[0mjob\u001b[0m\u001b[0;34m.\u001b[0m\u001b[0mget\u001b[0m\u001b[0;34m(\u001b[0m\u001b[0;34m)\u001b[0m\u001b[0;34m)\u001b[0m\u001b[0;34m\u001b[0m\u001b[0;34m\u001b[0m\u001b[0m\n",
            "\u001b[0;32m/usr/local/lib/python3.7/dist-packages/joblib/_parallel_backends.py\u001b[0m in \u001b[0;36mwrap_future_result\u001b[0;34m(future, timeout)\u001b[0m\n\u001b[1;32m    540\u001b[0m         AsyncResults.get from multiprocessing.\"\"\"\n\u001b[1;32m    541\u001b[0m         \u001b[0;32mtry\u001b[0m\u001b[0;34m:\u001b[0m\u001b[0;34m\u001b[0m\u001b[0;34m\u001b[0m\u001b[0m\n\u001b[0;32m--> 542\u001b[0;31m             \u001b[0;32mreturn\u001b[0m \u001b[0mfuture\u001b[0m\u001b[0;34m.\u001b[0m\u001b[0mresult\u001b[0m\u001b[0;34m(\u001b[0m\u001b[0mtimeout\u001b[0m\u001b[0;34m=\u001b[0m\u001b[0mtimeout\u001b[0m\u001b[0;34m)\u001b[0m\u001b[0;34m\u001b[0m\u001b[0;34m\u001b[0m\u001b[0m\n\u001b[0m\u001b[1;32m    543\u001b[0m         \u001b[0;32mexcept\u001b[0m \u001b[0mCfTimeoutError\u001b[0m \u001b[0;32mas\u001b[0m \u001b[0me\u001b[0m\u001b[0;34m:\u001b[0m\u001b[0;34m\u001b[0m\u001b[0;34m\u001b[0m\u001b[0m\n\u001b[1;32m    544\u001b[0m             \u001b[0;32mraise\u001b[0m \u001b[0mTimeoutError\u001b[0m \u001b[0;32mfrom\u001b[0m \u001b[0me\u001b[0m\u001b[0;34m\u001b[0m\u001b[0;34m\u001b[0m\u001b[0m\n",
            "\u001b[0;32m/usr/lib/python3.7/concurrent/futures/_base.py\u001b[0m in \u001b[0;36mresult\u001b[0;34m(self, timeout)\u001b[0m\n\u001b[1;32m    428\u001b[0m                 \u001b[0;32mreturn\u001b[0m \u001b[0mself\u001b[0m\u001b[0;34m.\u001b[0m\u001b[0m__get_result\u001b[0m\u001b[0;34m(\u001b[0m\u001b[0;34m)\u001b[0m\u001b[0;34m\u001b[0m\u001b[0;34m\u001b[0m\u001b[0m\n\u001b[1;32m    429\u001b[0m \u001b[0;34m\u001b[0m\u001b[0m\n\u001b[0;32m--> 430\u001b[0;31m             \u001b[0mself\u001b[0m\u001b[0;34m.\u001b[0m\u001b[0m_condition\u001b[0m\u001b[0;34m.\u001b[0m\u001b[0mwait\u001b[0m\u001b[0;34m(\u001b[0m\u001b[0mtimeout\u001b[0m\u001b[0;34m)\u001b[0m\u001b[0;34m\u001b[0m\u001b[0;34m\u001b[0m\u001b[0m\n\u001b[0m\u001b[1;32m    431\u001b[0m \u001b[0;34m\u001b[0m\u001b[0m\n\u001b[1;32m    432\u001b[0m             \u001b[0;32mif\u001b[0m \u001b[0mself\u001b[0m\u001b[0;34m.\u001b[0m\u001b[0m_state\u001b[0m \u001b[0;32min\u001b[0m \u001b[0;34m[\u001b[0m\u001b[0mCANCELLED\u001b[0m\u001b[0;34m,\u001b[0m \u001b[0mCANCELLED_AND_NOTIFIED\u001b[0m\u001b[0;34m]\u001b[0m\u001b[0;34m:\u001b[0m\u001b[0;34m\u001b[0m\u001b[0;34m\u001b[0m\u001b[0m\n",
            "\u001b[0;32m/usr/lib/python3.7/threading.py\u001b[0m in \u001b[0;36mwait\u001b[0;34m(self, timeout)\u001b[0m\n\u001b[1;32m    294\u001b[0m         \u001b[0;32mtry\u001b[0m\u001b[0;34m:\u001b[0m    \u001b[0;31m# restore state no matter what (e.g., KeyboardInterrupt)\u001b[0m\u001b[0;34m\u001b[0m\u001b[0;34m\u001b[0m\u001b[0m\n\u001b[1;32m    295\u001b[0m             \u001b[0;32mif\u001b[0m \u001b[0mtimeout\u001b[0m \u001b[0;32mis\u001b[0m \u001b[0;32mNone\u001b[0m\u001b[0;34m:\u001b[0m\u001b[0;34m\u001b[0m\u001b[0;34m\u001b[0m\u001b[0m\n\u001b[0;32m--> 296\u001b[0;31m                 \u001b[0mwaiter\u001b[0m\u001b[0;34m.\u001b[0m\u001b[0macquire\u001b[0m\u001b[0;34m(\u001b[0m\u001b[0;34m)\u001b[0m\u001b[0;34m\u001b[0m\u001b[0;34m\u001b[0m\u001b[0m\n\u001b[0m\u001b[1;32m    297\u001b[0m                 \u001b[0mgotit\u001b[0m \u001b[0;34m=\u001b[0m \u001b[0;32mTrue\u001b[0m\u001b[0;34m\u001b[0m\u001b[0;34m\u001b[0m\u001b[0m\n\u001b[1;32m    298\u001b[0m             \u001b[0;32melse\u001b[0m\u001b[0;34m:\u001b[0m\u001b[0;34m\u001b[0m\u001b[0;34m\u001b[0m\u001b[0m\n",
            "\u001b[0;31mKeyboardInterrupt\u001b[0m: "
          ]
        }
      ],
      "source": [
        "rf = RandomForestRegressor()\n",
        "\n",
        "rf_random = RandomizedSearchCV(estimator = rf, param_distributions = random_grid, n_iter = 100, cv = 5, verbose=2, random_state=42, n_jobs = -1)\n",
        "\n",
        "rf_random.fit(train1, train_y)\n"
      ]
    },
    {
      "cell_type": "code",
      "execution_count": null,
      "metadata": {
        "id": "xpZMpqmucTP6"
      },
      "outputs": [],
      "source": []
    },
    {
      "cell_type": "code",
      "execution_count": null,
      "metadata": {
        "id": "uQnNxEzfdZfm"
      },
      "outputs": [],
      "source": [
        "pred=rf_random.best_estimator_.predict(test1)\n"
      ]
    },
    {
      "cell_type": "code",
      "execution_count": null,
      "metadata": {
        "id": "6PZQs62tehNk"
      },
      "outputs": [],
      "source": [
        "result=pd.DataFrame({'Id':ids, 'SalePrice':pred})\n",
        "result.to_csv('house.csv')"
      ]
    },
    {
      "cell_type": "code",
      "execution_count": null,
      "metadata": {
        "id": "MUyaFDbqgHsR"
      },
      "outputs": [],
      "source": [
        "import xgboost as xgb\n",
        "model = xgb.XGBRegressor(n_estimators=1000, max_depth=7, eta=0.1)\n",
        "model.fit(train1, train_y)"
      ]
    },
    {
      "cell_type": "code",
      "execution_count": null,
      "metadata": {
        "id": "cCoVCklAi0s5"
      },
      "outputs": [],
      "source": [
        "model = xgb.XGBRegressor()\n",
        "grid = {'eta':[0.01],\n",
        "              'gamma': [2, 1, 0.5], \n",
        "              'max_depth': [3, 4, 5],\n",
        "              'subsample': [0.7],\n",
        "              'colsample_bytree': [0.7],\n",
        "              'n_estimators': [150, 200, 250]}\n",
        "random = RandomizedSearchCV(estimator = model, param_distributions = grid, n_iter = 60, cv = 5, verbose=2, random_state=42, n_jobs = -1)\n",
        "\n",
        "random.fit(train1, train_y)"
      ]
    },
    {
      "cell_type": "code",
      "execution_count": null,
      "metadata": {
        "id": "25tzTX-emJoZ"
      },
      "outputs": [],
      "source": [
        "random.best_estimator_"
      ]
    },
    {
      "cell_type": "code",
      "execution_count": null,
      "metadata": {
        "id": "6T_unUKdhZSV"
      },
      "outputs": [],
      "source": [
        "pred_train=random.best_estimator_.predict(train1)\n",
        "ans=train_y.to_numpy()\n",
        "data=pd.DataFrame({'ans':ans, 'pred':pred_train})\n",
        "\n",
        "a=(np.log(data.ans)-np.log(data.pred))**2\n",
        "a=a.mean()\n",
        "a**0.5"
      ]
    },
    {
      "cell_type": "code",
      "execution_count": null,
      "metadata": {
        "id": "e4Ti3fULhpFJ"
      },
      "outputs": [],
      "source": [
        "pred=random.best_estimator_.predict(test1)\n",
        "result=pd.DataFrame({'Id':ids, 'SalePrice':pred})\n",
        "result.to_csv('house.csv')"
      ]
    },
    {
      "cell_type": "code",
      "execution_count": null,
      "metadata": {
        "id": "DpOIxqWMornQ"
      },
      "outputs": [],
      "source": [
        "from sklearn.linear_model import LinearRegression\n",
        "model = LinearRegression()\n",
        "model.fit(train1, train_y)"
      ]
    },
    {
      "cell_type": "code",
      "execution_count": null,
      "metadata": {
        "id": "3uApUQCXpklU"
      },
      "outputs": [],
      "source": [
        "pred_train=model.predict(train1)\n",
        "ans=train_y.to_numpy()\n",
        "data=pd.DataFrame({'ans':ans, 'pred':pred_train})\n",
        "\n",
        "a=(np.log(data.ans)-np.log(data.pred))**2\n",
        "a=a.mean()\n",
        "a**0.5"
      ]
    },
    {
      "cell_type": "code",
      "execution_count": null,
      "metadata": {
        "id": "vc6Vkfs4pkd_"
      },
      "outputs": [],
      "source": [
        "pred=model.predict(test1)\n",
        "result=pd.DataFrame({'Id':ids, 'SalePrice':pred})\n",
        "result.to_csv('house.csv')"
      ]
    },
    {
      "cell_type": "code",
      "execution_count": null,
      "metadata": {
        "id": "P0PZgVmfrDA9"
      },
      "outputs": [],
      "source": [
        "model.score(train1, train_y)\n",
        "\n",
        "#i feel like the linear relationship is not that strong resulting in a poor model"
      ]
    },
    {
      "cell_type": "code",
      "execution_count": null,
      "metadata": {
        "id": "wXXoOl0qrzOg"
      },
      "outputs": [],
      "source": [
        "## some general living area looks like they are outliers that is true\n",
        "### maybe the way we break up neibourhood is kinda too bold??? it seem that many in others are considered outliers ie not in the same pattern\n",
        "### look at other categoricals as well???"
      ]
    },
    {
      "cell_type": "code",
      "execution_count": null,
      "metadata": {
        "id": "cnwV0NIDen_J"
      },
      "outputs": [],
      "source": [
        "feature_important = model.get_booster().get_score(importance_type='total_gain')\n",
        "keys = list(feature_important.keys())\n",
        "values = list(feature_important.values())\n",
        "\n",
        "data = pd.DataFrame(data=values, index=keys, columns=[\"score\"]).sort_values(by = \"score\", ascending=False)\n",
        "data.nlargest(40, columns=\"score\").plot(kind='barh', figsize = (20,10)) ## plot top 40 features"
      ]
    },
    {
      "cell_type": "code",
      "execution_count": null,
      "metadata": {
        "id": "zSiJ8zSju2f4"
      },
      "outputs": [],
      "source": [
        "binned_nei=clean_train.Neighborhood.replace(['StoneBr', 'NridgHt', 'NoRidge'],value='Rich')\n",
        "binned_nei.replace(['MeadowV', 'IDOTRR', 'BrDale'],value='Poor')\n",
        "binned_nei.head()\n",
        "\n"
      ]
    },
    {
      "cell_type": "code",
      "execution_count": null,
      "metadata": {
        "id": "v-0JbKMIwyVA"
      },
      "outputs": [],
      "source": [
        "#try2 \n",
        "\n",
        "train_cat=clean_train['Neighborhood']\n",
        "test_cat=test['Neighborhood']\n",
        "\n",
        "\n",
        "train_cat=train_cat.replace(['StoneBr', 'NridgHt', 'NoRidge'], value='Rich')\n",
        "train_cat=train_cat.replace(['MeadowV', 'IDOTRR', 'BrDale'], value='Poor')\n",
        "mem=train_cat.value_counts().index.values.tolist()\n",
        "averages=[ele for ele in mem if ele not in ['Rich','Poor']]\n",
        "train_cat=train_cat.replace(averages, value='Average')\n",
        "\n",
        "test_cat=test_cat.replace(['StoneBr', 'NridgHt', 'NoRidge'], value='Rich')\n",
        "test_cat=test_cat.replace(['MeadowV', 'IDOTRR', 'BrDale'], value='Poor')\n",
        "mem=test_cat.value_counts().index.values.tolist()\n",
        "averages=[ele for ele in mem if ele not in ['Rich','Poor']]\n",
        "test_cat=test_cat.replace(averages, value='Average')\n",
        "\n",
        "\n"
      ]
    },
    {
      "cell_type": "code",
      "execution_count": null,
      "metadata": {
        "id": "9vrjH5fa3iyU"
      },
      "outputs": [],
      "source": [
        "all_cat=pd.concat([train_cat, test_cat], axis=0)\n",
        "\n",
        "\n",
        "encoder = OneHotEncoder(sparse=False, drop='first')\n",
        "encoder.fit(all_cat.to_numpy().reshape(-1, 1))\n",
        "\n",
        "train_cat=encoder.transform(train_cat.to_numpy().reshape(-1, 1))\n",
        "test_cat=encoder.transform(test_cat.to_numpy().reshape(-1, 1))\n",
        "\n"
      ]
    },
    {
      "cell_type": "code",
      "execution_count": null,
      "metadata": {
        "id": "R6PBF8Tk42Yl"
      },
      "outputs": [],
      "source": [
        "train_cat.shape"
      ]
    },
    {
      "cell_type": "code",
      "execution_count": null,
      "metadata": {
        "id": "Fkb_amQD4DJ7"
      },
      "outputs": [],
      "source": [
        "labels=['Poor', 'Rich']"
      ]
    },
    {
      "cell_type": "code",
      "execution_count": null,
      "metadata": {
        "id": "kTB7LrE85HGL"
      },
      "outputs": [],
      "source": [
        "train_cat=pd.DataFrame(train_cat, columns = labels)\n",
        "test_cat=pd.DataFrame(test_cat, columns = labels)"
      ]
    },
    {
      "cell_type": "code",
      "execution_count": null,
      "metadata": {
        "id": "OBGrJlE85g0O"
      },
      "outputs": [],
      "source": [
        "#process nums\n",
        "\n",
        "\n",
        "\n",
        "tags=['OverallQual', 'GrLivArea', 'YearBuilt', 'GarageArea', 'FullBath', '1stFlrSF', 'YearRemodAdd', 'Fireplaces', 'OpenPorchSF', 'LotArea', 'MasVnrArea','WoodDeckSF' , 'HalfBath', \n",
        "      'BsmtFinSF1','2ndFlrSF', 'BedroomAbvGr', 'BsmtFullBath', 'EnclosedPorch', 'BsmtUnfSF', 'KitchenAbvGr', 'OverallCond']\n",
        "\n",
        "train_num=eda_train[tags]\n",
        "test_num=test[tags]\n",
        "\n",
        "train_num=train_num.fillna(np.mean(train_num))\n",
        "test_num=test_num.fillna(np.mean(test_num))\n",
        "\n",
        "#combine num and cat\n",
        "train2=pd.concat([train_num, train_cat], axis=1)\n",
        "test2=pd.concat([test_num, test_cat], axis=1)\n",
        "\n",
        "train_y=eda_train['SalePrice']"
      ]
    },
    {
      "cell_type": "code",
      "execution_count": null,
      "metadata": {
        "id": "HtKsr0_g5_5D"
      },
      "outputs": [],
      "source": [
        "import xgboost as xgb\n",
        "model = xgb.XGBRegressor(n_estimators=200, max_depth=3, eta=0.01, gamma=2)\n",
        "model.fit(train2, train_y)"
      ]
    },
    {
      "cell_type": "code",
      "execution_count": null,
      "metadata": {
        "id": "yRFV_Olg6iI9"
      },
      "outputs": [],
      "source": [
        "pred_train=model.predict(train2)\n",
        "ans=train_y.to_numpy()\n",
        "data=pd.DataFrame({'ans':ans, 'pred':pred_train})\n",
        "\n",
        "a=(np.log(data.ans)-np.log(data.pred))**2\n",
        "a=a.mean()\n",
        "a**0.5"
      ]
    },
    {
      "cell_type": "code",
      "execution_count": null,
      "metadata": {
        "id": "uaabuY4z6pXx"
      },
      "outputs": [],
      "source": [
        "pred=model.predict(test2)\n",
        "result=pd.DataFrame({'Id':ids, 'SalePrice':pred})\n",
        "result.to_csv('house.csv')"
      ]
    },
    {
      "cell_type": "code",
      "execution_count": null,
      "metadata": {
        "id": "5eGTFfgL7bvT"
      },
      "outputs": [],
      "source": [
        "feature_important = model.get_booster().get_score(importance_type='total_gain')\n",
        "keys = list(feature_important.keys())\n",
        "values = list(feature_important.values())\n",
        "\n",
        "data = pd.DataFrame(data=values, index=keys, columns=[\"score\"]).sort_values(by = \"score\", ascending=False)\n",
        "data.nlargest(40, columns=\"score\").plot(kind='barh', figsize = (20,10)) ## plot top 40 features"
      ]
    },
    {
      "cell_type": "code",
      "execution_count": null,
      "metadata": {
        "id": "QqeHH9t7-EIg"
      },
      "outputs": [],
      "source": []
    }
  ],
  "metadata": {
    "colab": {
      "provenance": [],
      "authorship_tag": "ABX9TyOPf2MQsLXebJ/ERUPfPibB",
      "include_colab_link": true
    },
    "kernelspec": {
      "display_name": "Python 3",
      "name": "python3"
    },
    "language_info": {
      "name": "python"
    }
  },
  "nbformat": 4,
  "nbformat_minor": 0
}